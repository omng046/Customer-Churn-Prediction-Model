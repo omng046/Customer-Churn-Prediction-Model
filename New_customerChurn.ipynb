{
 "cells": [
  {
   "cell_type": "markdown",
   "id": "c7bde3df",
   "metadata": {},
   "source": [
    "# Customer Churn Prediction Model for Telecom Customer Dataset"
   ]
  },
  {
   "cell_type": "markdown",
   "id": "b27fafb7",
   "metadata": {},
   "source": [
    "##### At glance:\n",
    "      I have used logistic regression model for this binary classification problem which I tried to fine tune by setting the \n",
    "      hyperparameter and performing Grid Search to fine best params\n",
    "    "
   ]
  },
  {
   "cell_type": "code",
   "execution_count": 354,
   "id": "99073620",
   "metadata": {},
   "outputs": [],
   "source": [
    "# Importing Primary libraries\n",
    "import pandas as pd\n",
    "import numpy as np\n",
    "import matplotlib.pyplot as plt\n",
    "import seaborn as sns"
   ]
  },
  {
   "cell_type": "code",
   "execution_count": 355,
   "id": "3aed74b1",
   "metadata": {},
   "outputs": [],
   "source": [
    "df= pd.read_csv('Telecom_Train.csv')"
   ]
  },
  {
   "cell_type": "code",
   "execution_count": 356,
   "id": "6da14d3e",
   "metadata": {},
   "outputs": [
    {
     "data": {
      "text/html": [
       "<div>\n",
       "<style scoped>\n",
       "    .dataframe tbody tr th:only-of-type {\n",
       "        vertical-align: middle;\n",
       "    }\n",
       "\n",
       "    .dataframe tbody tr th {\n",
       "        vertical-align: top;\n",
       "    }\n",
       "\n",
       "    .dataframe thead th {\n",
       "        text-align: right;\n",
       "    }\n",
       "</style>\n",
       "<table border=\"1\" class=\"dataframe\">\n",
       "  <thead>\n",
       "    <tr style=\"text-align: right;\">\n",
       "      <th></th>\n",
       "      <th>Unnamed: 0</th>\n",
       "      <th>state</th>\n",
       "      <th>account_length</th>\n",
       "      <th>area_code</th>\n",
       "      <th>international_plan</th>\n",
       "      <th>voice_mail_plan</th>\n",
       "      <th>number_vmail_messages</th>\n",
       "      <th>total_day_minutes</th>\n",
       "      <th>total_day_calls</th>\n",
       "      <th>total_day_charge</th>\n",
       "      <th>...</th>\n",
       "      <th>total_eve_calls</th>\n",
       "      <th>total_eve_charge</th>\n",
       "      <th>total_night_minutes</th>\n",
       "      <th>total_night_calls</th>\n",
       "      <th>total_night_charge</th>\n",
       "      <th>total_intl_minutes</th>\n",
       "      <th>total_intl_calls</th>\n",
       "      <th>total_intl_charge</th>\n",
       "      <th>number_customer_service_calls</th>\n",
       "      <th>churn</th>\n",
       "    </tr>\n",
       "  </thead>\n",
       "  <tbody>\n",
       "    <tr>\n",
       "      <th>0</th>\n",
       "      <td>1</td>\n",
       "      <td>KS</td>\n",
       "      <td>128</td>\n",
       "      <td>area_code_415</td>\n",
       "      <td>no</td>\n",
       "      <td>yes</td>\n",
       "      <td>25</td>\n",
       "      <td>265.1</td>\n",
       "      <td>110</td>\n",
       "      <td>45.07</td>\n",
       "      <td>...</td>\n",
       "      <td>99</td>\n",
       "      <td>16.78</td>\n",
       "      <td>244.7</td>\n",
       "      <td>91</td>\n",
       "      <td>11.01</td>\n",
       "      <td>10.0</td>\n",
       "      <td>3</td>\n",
       "      <td>2.70</td>\n",
       "      <td>1</td>\n",
       "      <td>no</td>\n",
       "    </tr>\n",
       "    <tr>\n",
       "      <th>1</th>\n",
       "      <td>2</td>\n",
       "      <td>OH</td>\n",
       "      <td>107</td>\n",
       "      <td>area_code_415</td>\n",
       "      <td>no</td>\n",
       "      <td>yes</td>\n",
       "      <td>26</td>\n",
       "      <td>161.6</td>\n",
       "      <td>123</td>\n",
       "      <td>27.47</td>\n",
       "      <td>...</td>\n",
       "      <td>103</td>\n",
       "      <td>16.62</td>\n",
       "      <td>254.4</td>\n",
       "      <td>103</td>\n",
       "      <td>11.45</td>\n",
       "      <td>13.7</td>\n",
       "      <td>3</td>\n",
       "      <td>3.70</td>\n",
       "      <td>1</td>\n",
       "      <td>no</td>\n",
       "    </tr>\n",
       "    <tr>\n",
       "      <th>2</th>\n",
       "      <td>3</td>\n",
       "      <td>NJ</td>\n",
       "      <td>137</td>\n",
       "      <td>area_code_415</td>\n",
       "      <td>no</td>\n",
       "      <td>no</td>\n",
       "      <td>0</td>\n",
       "      <td>243.4</td>\n",
       "      <td>114</td>\n",
       "      <td>41.38</td>\n",
       "      <td>...</td>\n",
       "      <td>110</td>\n",
       "      <td>10.30</td>\n",
       "      <td>162.6</td>\n",
       "      <td>104</td>\n",
       "      <td>7.32</td>\n",
       "      <td>12.2</td>\n",
       "      <td>5</td>\n",
       "      <td>3.29</td>\n",
       "      <td>0</td>\n",
       "      <td>no</td>\n",
       "    </tr>\n",
       "    <tr>\n",
       "      <th>3</th>\n",
       "      <td>4</td>\n",
       "      <td>OH</td>\n",
       "      <td>84</td>\n",
       "      <td>area_code_408</td>\n",
       "      <td>yes</td>\n",
       "      <td>no</td>\n",
       "      <td>0</td>\n",
       "      <td>299.4</td>\n",
       "      <td>71</td>\n",
       "      <td>50.90</td>\n",
       "      <td>...</td>\n",
       "      <td>88</td>\n",
       "      <td>5.26</td>\n",
       "      <td>196.9</td>\n",
       "      <td>89</td>\n",
       "      <td>8.86</td>\n",
       "      <td>6.6</td>\n",
       "      <td>7</td>\n",
       "      <td>1.78</td>\n",
       "      <td>2</td>\n",
       "      <td>no</td>\n",
       "    </tr>\n",
       "    <tr>\n",
       "      <th>4</th>\n",
       "      <td>5</td>\n",
       "      <td>OK</td>\n",
       "      <td>75</td>\n",
       "      <td>area_code_415</td>\n",
       "      <td>yes</td>\n",
       "      <td>no</td>\n",
       "      <td>0</td>\n",
       "      <td>166.7</td>\n",
       "      <td>113</td>\n",
       "      <td>28.34</td>\n",
       "      <td>...</td>\n",
       "      <td>122</td>\n",
       "      <td>12.61</td>\n",
       "      <td>186.9</td>\n",
       "      <td>121</td>\n",
       "      <td>8.41</td>\n",
       "      <td>10.1</td>\n",
       "      <td>3</td>\n",
       "      <td>2.73</td>\n",
       "      <td>3</td>\n",
       "      <td>no</td>\n",
       "    </tr>\n",
       "  </tbody>\n",
       "</table>\n",
       "<p>5 rows × 21 columns</p>\n",
       "</div>"
      ],
      "text/plain": [
       "   Unnamed: 0 state  account_length      area_code international_plan  \\\n",
       "0           1    KS             128  area_code_415                 no   \n",
       "1           2    OH             107  area_code_415                 no   \n",
       "2           3    NJ             137  area_code_415                 no   \n",
       "3           4    OH              84  area_code_408                yes   \n",
       "4           5    OK              75  area_code_415                yes   \n",
       "\n",
       "  voice_mail_plan  number_vmail_messages  total_day_minutes  total_day_calls  \\\n",
       "0             yes                     25              265.1              110   \n",
       "1             yes                     26              161.6              123   \n",
       "2              no                      0              243.4              114   \n",
       "3              no                      0              299.4               71   \n",
       "4              no                      0              166.7              113   \n",
       "\n",
       "   total_day_charge  ...  total_eve_calls  total_eve_charge  \\\n",
       "0             45.07  ...               99             16.78   \n",
       "1             27.47  ...              103             16.62   \n",
       "2             41.38  ...              110             10.30   \n",
       "3             50.90  ...               88              5.26   \n",
       "4             28.34  ...              122             12.61   \n",
       "\n",
       "   total_night_minutes  total_night_calls  total_night_charge  \\\n",
       "0                244.7                 91               11.01   \n",
       "1                254.4                103               11.45   \n",
       "2                162.6                104                7.32   \n",
       "3                196.9                 89                8.86   \n",
       "4                186.9                121                8.41   \n",
       "\n",
       "   total_intl_minutes  total_intl_calls  total_intl_charge  \\\n",
       "0                10.0                 3               2.70   \n",
       "1                13.7                 3               3.70   \n",
       "2                12.2                 5               3.29   \n",
       "3                 6.6                 7               1.78   \n",
       "4                10.1                 3               2.73   \n",
       "\n",
       "   number_customer_service_calls  churn  \n",
       "0                              1     no  \n",
       "1                              1     no  \n",
       "2                              0     no  \n",
       "3                              2     no  \n",
       "4                              3     no  \n",
       "\n",
       "[5 rows x 21 columns]"
      ]
     },
     "execution_count": 356,
     "metadata": {},
     "output_type": "execute_result"
    }
   ],
   "source": [
    "df.head()"
   ]
  },
  {
   "cell_type": "markdown",
   "id": "995aa5a6",
   "metadata": {},
   "source": [
    "---"
   ]
  },
  {
   "cell_type": "markdown",
   "id": "0b8ccda3",
   "metadata": {},
   "source": [
    "# EDA"
   ]
  },
  {
   "cell_type": "code",
   "execution_count": 357,
   "id": "c20cfd26",
   "metadata": {},
   "outputs": [
    {
     "name": "stdout",
     "output_type": "stream",
     "text": [
      "<class 'pandas.core.frame.DataFrame'>\n",
      "RangeIndex: 3333 entries, 0 to 3332\n",
      "Data columns (total 21 columns):\n",
      " #   Column                         Non-Null Count  Dtype  \n",
      "---  ------                         --------------  -----  \n",
      " 0   Unnamed: 0                     3333 non-null   int64  \n",
      " 1   state                          3333 non-null   object \n",
      " 2   account_length                 3333 non-null   int64  \n",
      " 3   area_code                      3333 non-null   object \n",
      " 4   international_plan             3333 non-null   object \n",
      " 5   voice_mail_plan                3333 non-null   object \n",
      " 6   number_vmail_messages          3333 non-null   int64  \n",
      " 7   total_day_minutes              3333 non-null   float64\n",
      " 8   total_day_calls                3333 non-null   int64  \n",
      " 9   total_day_charge               3333 non-null   float64\n",
      " 10  total_eve_minutes              3333 non-null   float64\n",
      " 11  total_eve_calls                3333 non-null   int64  \n",
      " 12  total_eve_charge               3333 non-null   float64\n",
      " 13  total_night_minutes            3333 non-null   float64\n",
      " 14  total_night_calls              3333 non-null   int64  \n",
      " 15  total_night_charge             3333 non-null   float64\n",
      " 16  total_intl_minutes             3333 non-null   float64\n",
      " 17  total_intl_calls               3333 non-null   int64  \n",
      " 18  total_intl_charge              3333 non-null   float64\n",
      " 19  number_customer_service_calls  3333 non-null   int64  \n",
      " 20  churn                          3333 non-null   object \n",
      "dtypes: float64(8), int64(8), object(5)\n",
      "memory usage: 546.9+ KB\n"
     ]
    }
   ],
   "source": [
    "df.info()"
   ]
  },
  {
   "cell_type": "code",
   "execution_count": 358,
   "id": "d34c447b",
   "metadata": {},
   "outputs": [],
   "source": [
    "df =df.drop('Unnamed: 0', axis=1)"
   ]
  },
  {
   "cell_type": "code",
   "execution_count": 360,
   "id": "66d991ab",
   "metadata": {},
   "outputs": [
    {
     "data": {
      "text/plain": [
       "(array([2850.,    0.,    0.,    0.,    0.,    0.,    0.,    0.,    0.,\n",
       "         483.]),\n",
       " array([0. , 0.1, 0.2, 0.3, 0.4, 0.5, 0.6, 0.7, 0.8, 0.9, 1. ]),\n",
       " <BarContainer object of 10 artists>)"
      ]
     },
     "execution_count": 360,
     "metadata": {},
     "output_type": "execute_result"
    },
    {
     "data": {
      "image/png": "[encoded data removed]",
      "text/plain": [
       "<Figure size 640x480 with 1 Axes>"
      ]
     },
     "metadata": {},
     "output_type": "display_data"
    }
   ],
   "source": [
    "#making histogram of  churn\n",
    "plt.hist(x = df['churn'])\n",
    "# churn means to loose\n",
    "#most churn are NO indicating most customer won't cancel their services"
   ]
  },
  {
   "cell_type": "code",
   "execution_count": 361,
   "id": "f06e8b81",
   "metadata": {},
   "outputs": [
    {
     "name": "stdout",
     "output_type": "stream",
     "text": [
      "no     2850\n",
      "yes     483\n",
      "Name: churn, dtype: int64\n"
     ]
    }
   ],
   "source": [
    "print(df['churn'].value_counts())\n",
    "# So, data is imbalanced."
   ]
  },
  {
   "cell_type": "code",
   "execution_count": 362,
   "id": "70873ff1",
   "metadata": {},
   "outputs": [
    {
     "data": {
      "text/plain": [
       "area_code_415    1655\n",
       "area_code_510     840\n",
       "area_code_408     838\n",
       "Name: area_code, dtype: int64"
      ]
     },
     "execution_count": 362,
     "metadata": {},
     "output_type": "execute_result"
    }
   ],
   "source": [
    "df['area_code'].value_counts()\n",
    "# so only three types of area"
   ]
  },
  {
   "cell_type": "code",
   "execution_count": 363,
   "id": "9545007f",
   "metadata": {
    "scrolled": true
   },
   "outputs": [
    {
     "data": {
      "text/plain": [
       "WV    106\n",
       "MN     84\n",
       "NY     83\n",
       "AL     80\n",
       "WI     78\n",
       "OH     78\n",
       "OR     78\n",
       "WY     77\n",
       "VA     77\n",
       "CT     74\n",
       "MI     73\n",
       "ID     73\n",
       "VT     73\n",
       "TX     72\n",
       "UT     72\n",
       "IN     71\n",
       "MD     70\n",
       "KS     70\n",
       "NC     68\n",
       "NJ     68\n",
       "MT     68\n",
       "CO     66\n",
       "NV     66\n",
       "WA     66\n",
       "RI     65\n",
       "MA     65\n",
       "MS     65\n",
       "AZ     64\n",
       "FL     63\n",
       "MO     63\n",
       "NM     62\n",
       "ME     62\n",
       "ND     62\n",
       "NE     61\n",
       "OK     61\n",
       "DE     61\n",
       "SC     60\n",
       "SD     60\n",
       "KY     59\n",
       "IL     58\n",
       "NH     56\n",
       "AR     55\n",
       "GA     54\n",
       "DC     54\n",
       "HI     53\n",
       "TN     53\n",
       "AK     52\n",
       "LA     51\n",
       "PA     45\n",
       "IA     44\n",
       "CA     34\n",
       "Name: state, dtype: int64"
      ]
     },
     "execution_count": 363,
     "metadata": {},
     "output_type": "execute_result"
    }
   ],
   "source": [
    "df['state'].value_counts()"
   ]
  },
  {
   "cell_type": "code",
   "execution_count": 364,
   "id": "78e51bf8",
   "metadata": {},
   "outputs": [
    {
     "data": {
      "text/plain": [
       "(array([3010.,    0.,    0.,    0.,    0.,    0.,    0.,    0.,    0.,\n",
       "         323.]),\n",
       " array([0. , 0.1, 0.2, 0.3, 0.4, 0.5, 0.6, 0.7, 0.8, 0.9, 1. ]),\n",
       " <BarContainer object of 10 artists>)"
      ]
     },
     "execution_count": 364,
     "metadata": {},
     "output_type": "execute_result"
    },
    {
     "data": {
      "image/png": "[encoded data removed]",
      "text/plain": [
       "<Figure size 640x480 with 1 Axes>"
      ]
     },
     "metadata": {},
     "output_type": "display_data"
    }
   ],
   "source": [
    "plt.hist(x = df['international_plan'])\n",
    "# So very few with international plan"
   ]
  },
  {
   "cell_type": "code",
   "execution_count": 365,
   "id": "e3c13bef",
   "metadata": {},
   "outputs": [
    {
     "data": {
      "text/plain": [
       "(array([ 922.,    0.,    0.,    0.,    0.,    0.,    0.,    0.,    0.,\n",
       "        2411.]),\n",
       " array([0. , 0.1, 0.2, 0.3, 0.4, 0.5, 0.6, 0.7, 0.8, 0.9, 1. ]),\n",
       " <BarContainer object of 10 artists>)"
      ]
     },
     "execution_count": 365,
     "metadata": {},
     "output_type": "execute_result"
    },
    {
     "data": {
      "image/png": "[encoded data removed]",
      "text/plain": [
       "<Figure size 640x480 with 1 Axes>"
      ]
     },
     "metadata": {},
     "output_type": "display_data"
    }
   ],
   "source": [
    "plt.hist(x = df['voice_mail_plan'])\n",
    "# Interseting, so less than half use voice mail plan.\n",
    "# IF you dont have voicemail plan, no. of vmail msgs becomes zero for you."
   ]
  },
  {
   "cell_type": "code",
   "execution_count": 366,
   "id": "6371b54c",
   "metadata": {},
   "outputs": [
    {
     "data": {
      "text/plain": [
       "<AxesSubplot:xlabel='number_customer_service_calls', ylabel='Count'>"
      ]
     },
     "execution_count": 366,
     "metadata": {},
     "output_type": "execute_result"
    },
    {
     "data": {
      "image/png": "[encoded data removed]",
      "text/plain": [
       "<Figure size 640x480 with 1 Axes>"
      ]
     },
     "metadata": {},
     "output_type": "display_data"
    }
   ],
   "source": [
    "# plt.hist(x = df['number_customer_service_calls'],KDE=True)\n",
    "sns.histplot(data=df['number_customer_service_calls'], kde=True)"
   ]
  },
  {
   "cell_type": "code",
   "execution_count": 367,
   "id": "e49888a7",
   "metadata": {},
   "outputs": [
    {
     "data": {
      "text/plain": [
       "array(['no', 'yes'], dtype=object)"
      ]
     },
     "execution_count": 367,
     "metadata": {},
     "output_type": "execute_result"
    }
   ],
   "source": [
    "df['churn'].unique()"
   ]
  },
  {
   "cell_type": "code",
   "execution_count": 368,
   "id": "7d9674c5",
   "metadata": {},
   "outputs": [],
   "source": [
    "# Encoding for categorical variables\n",
    "\n",
    "# converting churn\n",
    "# df['churn_val']= lambda(0 if x=='no' else 1  for x in df['churn'])\n",
    "df['churn']= [0 if x=='no' else 1 for x in df['churn']]\n",
    "df['international_plan']= [0 if x=='no' else 1 for x in df['international_plan']]\n",
    "df['voice_mail_plan']= [0 if x=='no' else 1 for x in df['voice_mail_plan']]\n",
    "# dont run it again in between, it can change values"
   ]
  },
  {
   "cell_type": "markdown",
   "id": "278d81b7",
   "metadata": {},
   "source": [
    "1. Most obvious thing we notice is how time and charge are related.\n",
    "2. so que arises if we need to keep both columns. Does keeping both columns causes any harm\n",
    "3. Does reducing the no. of columns in our data set improves performance of model"
   ]
  },
  {
   "cell_type": "code",
   "execution_count": 370,
   "id": "0647448c",
   "metadata": {},
   "outputs": [
    {
     "data": {
      "text/plain": [
       "Index(['state', 'account_length', 'area_code', 'international_plan',\n",
       "       'voice_mail_plan', 'number_vmail_messages', 'total_day_minutes',\n",
       "       'total_day_calls', 'total_day_charge', 'total_eve_minutes',\n",
       "       'total_eve_calls', 'total_eve_charge', 'total_night_minutes',\n",
       "       'total_night_calls', 'total_night_charge', 'total_intl_minutes',\n",
       "       'total_intl_calls', 'total_intl_charge',\n",
       "       'number_customer_service_calls', 'churn'],\n",
       "      dtype='object')"
      ]
     },
     "execution_count": 370,
     "metadata": {},
     "output_type": "execute_result"
    }
   ],
   "source": [
    "df.columns"
   ]
  },
  {
   "cell_type": "code",
   "execution_count": 371,
   "id": "d5f20796",
   "metadata": {},
   "outputs": [],
   "source": [
    "# since customer are more driven by cost, we will drop the time columns\n",
    "todrop= ['total_day_minutes','total_eve_minutes','total_night_minutes','total_intl_minutes']\n",
    "newdf= df.drop(columns=todrop)"
   ]
  },
  {
   "cell_type": "code",
   "execution_count": 372,
   "id": "4e39c7ac",
   "metadata": {},
   "outputs": [
    {
     "data": {
      "text/html": [
       "<div>\n",
       "<style scoped>\n",
       "    .dataframe tbody tr th:only-of-type {\n",
       "        vertical-align: middle;\n",
       "    }\n",
       "\n",
       "    .dataframe tbody tr th {\n",
       "        vertical-align: top;\n",
       "    }\n",
       "\n",
       "    .dataframe thead th {\n",
       "        text-align: right;\n",
       "    }\n",
       "</style>\n",
       "<table border=\"1\" class=\"dataframe\">\n",
       "  <thead>\n",
       "    <tr style=\"text-align: right;\">\n",
       "      <th></th>\n",
       "      <th>state</th>\n",
       "      <th>account_length</th>\n",
       "      <th>area_code</th>\n",
       "      <th>international_plan</th>\n",
       "      <th>voice_mail_plan</th>\n",
       "      <th>number_vmail_messages</th>\n",
       "      <th>total_day_calls</th>\n",
       "      <th>total_day_charge</th>\n",
       "      <th>total_eve_calls</th>\n",
       "      <th>total_eve_charge</th>\n",
       "      <th>total_night_calls</th>\n",
       "      <th>total_night_charge</th>\n",
       "      <th>total_intl_calls</th>\n",
       "      <th>total_intl_charge</th>\n",
       "      <th>number_customer_service_calls</th>\n",
       "      <th>churn</th>\n",
       "    </tr>\n",
       "  </thead>\n",
       "  <tbody>\n",
       "    <tr>\n",
       "      <th>0</th>\n",
       "      <td>KS</td>\n",
       "      <td>128</td>\n",
       "      <td>area_code_415</td>\n",
       "      <td>0</td>\n",
       "      <td>1</td>\n",
       "      <td>25</td>\n",
       "      <td>110</td>\n",
       "      <td>45.07</td>\n",
       "      <td>99</td>\n",
       "      <td>16.78</td>\n",
       "      <td>91</td>\n",
       "      <td>11.01</td>\n",
       "      <td>3</td>\n",
       "      <td>2.70</td>\n",
       "      <td>1</td>\n",
       "      <td>0</td>\n",
       "    </tr>\n",
       "    <tr>\n",
       "      <th>1</th>\n",
       "      <td>OH</td>\n",
       "      <td>107</td>\n",
       "      <td>area_code_415</td>\n",
       "      <td>0</td>\n",
       "      <td>1</td>\n",
       "      <td>26</td>\n",
       "      <td>123</td>\n",
       "      <td>27.47</td>\n",
       "      <td>103</td>\n",
       "      <td>16.62</td>\n",
       "      <td>103</td>\n",
       "      <td>11.45</td>\n",
       "      <td>3</td>\n",
       "      <td>3.70</td>\n",
       "      <td>1</td>\n",
       "      <td>0</td>\n",
       "    </tr>\n",
       "    <tr>\n",
       "      <th>2</th>\n",
       "      <td>NJ</td>\n",
       "      <td>137</td>\n",
       "      <td>area_code_415</td>\n",
       "      <td>0</td>\n",
       "      <td>0</td>\n",
       "      <td>0</td>\n",
       "      <td>114</td>\n",
       "      <td>41.38</td>\n",
       "      <td>110</td>\n",
       "      <td>10.30</td>\n",
       "      <td>104</td>\n",
       "      <td>7.32</td>\n",
       "      <td>5</td>\n",
       "      <td>3.29</td>\n",
       "      <td>0</td>\n",
       "      <td>0</td>\n",
       "    </tr>\n",
       "    <tr>\n",
       "      <th>3</th>\n",
       "      <td>OH</td>\n",
       "      <td>84</td>\n",
       "      <td>area_code_408</td>\n",
       "      <td>1</td>\n",
       "      <td>0</td>\n",
       "      <td>0</td>\n",
       "      <td>71</td>\n",
       "      <td>50.90</td>\n",
       "      <td>88</td>\n",
       "      <td>5.26</td>\n",
       "      <td>89</td>\n",
       "      <td>8.86</td>\n",
       "      <td>7</td>\n",
       "      <td>1.78</td>\n",
       "      <td>2</td>\n",
       "      <td>0</td>\n",
       "    </tr>\n",
       "    <tr>\n",
       "      <th>4</th>\n",
       "      <td>OK</td>\n",
       "      <td>75</td>\n",
       "      <td>area_code_415</td>\n",
       "      <td>1</td>\n",
       "      <td>0</td>\n",
       "      <td>0</td>\n",
       "      <td>113</td>\n",
       "      <td>28.34</td>\n",
       "      <td>122</td>\n",
       "      <td>12.61</td>\n",
       "      <td>121</td>\n",
       "      <td>8.41</td>\n",
       "      <td>3</td>\n",
       "      <td>2.73</td>\n",
       "      <td>3</td>\n",
       "      <td>0</td>\n",
       "    </tr>\n",
       "  </tbody>\n",
       "</table>\n",
       "</div>"
      ],
      "text/plain": [
       "  state  account_length      area_code  international_plan  voice_mail_plan  \\\n",
       "0    KS             128  area_code_415                   0                1   \n",
       "1    OH             107  area_code_415                   0                1   \n",
       "2    NJ             137  area_code_415                   0                0   \n",
       "3    OH              84  area_code_408                   1                0   \n",
       "4    OK              75  area_code_415                   1                0   \n",
       "\n",
       "   number_vmail_messages  total_day_calls  total_day_charge  total_eve_calls  \\\n",
       "0                     25              110             45.07               99   \n",
       "1                     26              123             27.47              103   \n",
       "2                      0              114             41.38              110   \n",
       "3                      0               71             50.90               88   \n",
       "4                      0              113             28.34              122   \n",
       "\n",
       "   total_eve_charge  total_night_calls  total_night_charge  total_intl_calls  \\\n",
       "0             16.78                 91               11.01                 3   \n",
       "1             16.62                103               11.45                 3   \n",
       "2             10.30                104                7.32                 5   \n",
       "3              5.26                 89                8.86                 7   \n",
       "4             12.61                121                8.41                 3   \n",
       "\n",
       "   total_intl_charge  number_customer_service_calls  churn  \n",
       "0               2.70                              1      0  \n",
       "1               3.70                              1      0  \n",
       "2               3.29                              0      0  \n",
       "3               1.78                              2      0  \n",
       "4               2.73                              3      0  "
      ]
     },
     "execution_count": 372,
     "metadata": {},
     "output_type": "execute_result"
    }
   ],
   "source": [
    "newdf.head()"
   ]
  },
  {
   "cell_type": "code",
   "execution_count": 373,
   "id": "1512be96",
   "metadata": {},
   "outputs": [],
   "source": [
    "# hot encode area_code\n",
    "df = pd.get_dummies(df, columns=['area_code'], drop_first=True)\n"
   ]
  },
  {
   "cell_type": "code",
   "execution_count": 374,
   "id": "1f4372a6",
   "metadata": {},
   "outputs": [
    {
     "data": {
      "text/html": [
       "<div>\n",
       "<style scoped>\n",
       "    .dataframe tbody tr th:only-of-type {\n",
       "        vertical-align: middle;\n",
       "    }\n",
       "\n",
       "    .dataframe tbody tr th {\n",
       "        vertical-align: top;\n",
       "    }\n",
       "\n",
       "    .dataframe thead th {\n",
       "        text-align: right;\n",
       "    }\n",
       "</style>\n",
       "<table border=\"1\" class=\"dataframe\">\n",
       "  <thead>\n",
       "    <tr style=\"text-align: right;\">\n",
       "      <th></th>\n",
       "      <th>state</th>\n",
       "      <th>account_length</th>\n",
       "      <th>international_plan</th>\n",
       "      <th>voice_mail_plan</th>\n",
       "      <th>number_vmail_messages</th>\n",
       "      <th>total_day_minutes</th>\n",
       "      <th>total_day_calls</th>\n",
       "      <th>total_day_charge</th>\n",
       "      <th>total_eve_minutes</th>\n",
       "      <th>total_eve_calls</th>\n",
       "      <th>...</th>\n",
       "      <th>total_night_minutes</th>\n",
       "      <th>total_night_calls</th>\n",
       "      <th>total_night_charge</th>\n",
       "      <th>total_intl_minutes</th>\n",
       "      <th>total_intl_calls</th>\n",
       "      <th>total_intl_charge</th>\n",
       "      <th>number_customer_service_calls</th>\n",
       "      <th>churn</th>\n",
       "      <th>area_code_area_code_415</th>\n",
       "      <th>area_code_area_code_510</th>\n",
       "    </tr>\n",
       "  </thead>\n",
       "  <tbody>\n",
       "    <tr>\n",
       "      <th>0</th>\n",
       "      <td>KS</td>\n",
       "      <td>128</td>\n",
       "      <td>0</td>\n",
       "      <td>1</td>\n",
       "      <td>25</td>\n",
       "      <td>265.1</td>\n",
       "      <td>110</td>\n",
       "      <td>45.07</td>\n",
       "      <td>197.4</td>\n",
       "      <td>99</td>\n",
       "      <td>...</td>\n",
       "      <td>244.7</td>\n",
       "      <td>91</td>\n",
       "      <td>11.01</td>\n",
       "      <td>10.0</td>\n",
       "      <td>3</td>\n",
       "      <td>2.70</td>\n",
       "      <td>1</td>\n",
       "      <td>0</td>\n",
       "      <td>1</td>\n",
       "      <td>0</td>\n",
       "    </tr>\n",
       "    <tr>\n",
       "      <th>1</th>\n",
       "      <td>OH</td>\n",
       "      <td>107</td>\n",
       "      <td>0</td>\n",
       "      <td>1</td>\n",
       "      <td>26</td>\n",
       "      <td>161.6</td>\n",
       "      <td>123</td>\n",
       "      <td>27.47</td>\n",
       "      <td>195.5</td>\n",
       "      <td>103</td>\n",
       "      <td>...</td>\n",
       "      <td>254.4</td>\n",
       "      <td>103</td>\n",
       "      <td>11.45</td>\n",
       "      <td>13.7</td>\n",
       "      <td>3</td>\n",
       "      <td>3.70</td>\n",
       "      <td>1</td>\n",
       "      <td>0</td>\n",
       "      <td>1</td>\n",
       "      <td>0</td>\n",
       "    </tr>\n",
       "    <tr>\n",
       "      <th>2</th>\n",
       "      <td>NJ</td>\n",
       "      <td>137</td>\n",
       "      <td>0</td>\n",
       "      <td>0</td>\n",
       "      <td>0</td>\n",
       "      <td>243.4</td>\n",
       "      <td>114</td>\n",
       "      <td>41.38</td>\n",
       "      <td>121.2</td>\n",
       "      <td>110</td>\n",
       "      <td>...</td>\n",
       "      <td>162.6</td>\n",
       "      <td>104</td>\n",
       "      <td>7.32</td>\n",
       "      <td>12.2</td>\n",
       "      <td>5</td>\n",
       "      <td>3.29</td>\n",
       "      <td>0</td>\n",
       "      <td>0</td>\n",
       "      <td>1</td>\n",
       "      <td>0</td>\n",
       "    </tr>\n",
       "    <tr>\n",
       "      <th>3</th>\n",
       "      <td>OH</td>\n",
       "      <td>84</td>\n",
       "      <td>1</td>\n",
       "      <td>0</td>\n",
       "      <td>0</td>\n",
       "      <td>299.4</td>\n",
       "      <td>71</td>\n",
       "      <td>50.90</td>\n",
       "      <td>61.9</td>\n",
       "      <td>88</td>\n",
       "      <td>...</td>\n",
       "      <td>196.9</td>\n",
       "      <td>89</td>\n",
       "      <td>8.86</td>\n",
       "      <td>6.6</td>\n",
       "      <td>7</td>\n",
       "      <td>1.78</td>\n",
       "      <td>2</td>\n",
       "      <td>0</td>\n",
       "      <td>0</td>\n",
       "      <td>0</td>\n",
       "    </tr>\n",
       "    <tr>\n",
       "      <th>4</th>\n",
       "      <td>OK</td>\n",
       "      <td>75</td>\n",
       "      <td>1</td>\n",
       "      <td>0</td>\n",
       "      <td>0</td>\n",
       "      <td>166.7</td>\n",
       "      <td>113</td>\n",
       "      <td>28.34</td>\n",
       "      <td>148.3</td>\n",
       "      <td>122</td>\n",
       "      <td>...</td>\n",
       "      <td>186.9</td>\n",
       "      <td>121</td>\n",
       "      <td>8.41</td>\n",
       "      <td>10.1</td>\n",
       "      <td>3</td>\n",
       "      <td>2.73</td>\n",
       "      <td>3</td>\n",
       "      <td>0</td>\n",
       "      <td>1</td>\n",
       "      <td>0</td>\n",
       "    </tr>\n",
       "  </tbody>\n",
       "</table>\n",
       "<p>5 rows × 21 columns</p>\n",
       "</div>"
      ],
      "text/plain": [
       "  state  account_length  international_plan  voice_mail_plan  \\\n",
       "0    KS             128                   0                1   \n",
       "1    OH             107                   0                1   \n",
       "2    NJ             137                   0                0   \n",
       "3    OH              84                   1                0   \n",
       "4    OK              75                   1                0   \n",
       "\n",
       "   number_vmail_messages  total_day_minutes  total_day_calls  \\\n",
       "0                     25              265.1              110   \n",
       "1                     26              161.6              123   \n",
       "2                      0              243.4              114   \n",
       "3                      0              299.4               71   \n",
       "4                      0              166.7              113   \n",
       "\n",
       "   total_day_charge  total_eve_minutes  total_eve_calls  ...  \\\n",
       "0             45.07              197.4               99  ...   \n",
       "1             27.47              195.5              103  ...   \n",
       "2             41.38              121.2              110  ...   \n",
       "3             50.90               61.9               88  ...   \n",
       "4             28.34              148.3              122  ...   \n",
       "\n",
       "   total_night_minutes  total_night_calls  total_night_charge  \\\n",
       "0                244.7                 91               11.01   \n",
       "1                254.4                103               11.45   \n",
       "2                162.6                104                7.32   \n",
       "3                196.9                 89                8.86   \n",
       "4                186.9                121                8.41   \n",
       "\n",
       "   total_intl_minutes  total_intl_calls  total_intl_charge  \\\n",
       "0                10.0                 3               2.70   \n",
       "1                13.7                 3               3.70   \n",
       "2                12.2                 5               3.29   \n",
       "3                 6.6                 7               1.78   \n",
       "4                10.1                 3               2.73   \n",
       "\n",
       "   number_customer_service_calls  churn  area_code_area_code_415  \\\n",
       "0                              1      0                        1   \n",
       "1                              1      0                        1   \n",
       "2                              0      0                        1   \n",
       "3                              2      0                        0   \n",
       "4                              3      0                        1   \n",
       "\n",
       "   area_code_area_code_510  \n",
       "0                        0  \n",
       "1                        0  \n",
       "2                        0  \n",
       "3                        0  \n",
       "4                        0  \n",
       "\n",
       "[5 rows x 21 columns]"
      ]
     },
     "execution_count": 374,
     "metadata": {},
     "output_type": "execute_result"
    }
   ],
   "source": [
    "df.head()"
   ]
  },
  {
   "cell_type": "code",
   "execution_count": 375,
   "id": "7a55e537",
   "metadata": {},
   "outputs": [
    {
     "data": {
      "text/plain": [
       "<AxesSubplot:>"
      ]
     },
     "execution_count": 375,
     "metadata": {},
     "output_type": "execute_result"
    },
    {
     "data": {
      "image/png": "[encoded data removed]",
      "text/plain": [
       "<Figure size 1200x800 with 2 Axes>"
      ]
     },
     "metadata": {},
     "output_type": "display_data"
    }
   ],
   "source": [
    "#Creating a heatmap of corr\n",
    "corrplt= df.corr()\n",
    "plt.figure(figsize=(12,8))\n",
    "sns.heatmap(corrplt,annot=False,cmap='coolwarm')\n",
    "# notice bydefault its take only numeric values to compare and plot\n",
    "#Problem - there is no churn , how to see what affects it more"
   ]
  },
  {
   "cell_type": "markdown",
   "id": "6734770d",
   "metadata": {},
   "source": [
    "---"
   ]
  },
  {
   "cell_type": "markdown",
   "id": "b05cd22f",
   "metadata": {},
   "source": [
    "# Modeling\n"
   ]
  },
  {
   "cell_type": "code",
   "execution_count": 376,
   "id": "95b4cc6d",
   "metadata": {},
   "outputs": [],
   "source": [
    "# A binart classification model. We will use logistic regression for it\n",
    "# lets do the regression now\n",
    "from sklearn.linear_model import LogisticRegression\n",
    "from sklearn.model_selection import train_test_split\n"
   ]
  },
  {
   "cell_type": "code",
   "execution_count": 377,
   "id": "7da9b603",
   "metadata": {},
   "outputs": [
    {
     "data": {
      "text/html": [
       "<div>\n",
       "<style scoped>\n",
       "    .dataframe tbody tr th:only-of-type {\n",
       "        vertical-align: middle;\n",
       "    }\n",
       "\n",
       "    .dataframe tbody tr th {\n",
       "        vertical-align: top;\n",
       "    }\n",
       "\n",
       "    .dataframe thead th {\n",
       "        text-align: right;\n",
       "    }\n",
       "</style>\n",
       "<table border=\"1\" class=\"dataframe\">\n",
       "  <thead>\n",
       "    <tr style=\"text-align: right;\">\n",
       "      <th></th>\n",
       "      <th>state</th>\n",
       "      <th>account_length</th>\n",
       "      <th>international_plan</th>\n",
       "      <th>voice_mail_plan</th>\n",
       "      <th>number_vmail_messages</th>\n",
       "      <th>total_day_minutes</th>\n",
       "      <th>total_day_calls</th>\n",
       "      <th>total_day_charge</th>\n",
       "      <th>total_eve_minutes</th>\n",
       "      <th>total_eve_calls</th>\n",
       "      <th>...</th>\n",
       "      <th>total_night_minutes</th>\n",
       "      <th>total_night_calls</th>\n",
       "      <th>total_night_charge</th>\n",
       "      <th>total_intl_minutes</th>\n",
       "      <th>total_intl_calls</th>\n",
       "      <th>total_intl_charge</th>\n",
       "      <th>number_customer_service_calls</th>\n",
       "      <th>churn</th>\n",
       "      <th>area_code_area_code_415</th>\n",
       "      <th>area_code_area_code_510</th>\n",
       "    </tr>\n",
       "  </thead>\n",
       "  <tbody>\n",
       "    <tr>\n",
       "      <th>0</th>\n",
       "      <td>KS</td>\n",
       "      <td>128</td>\n",
       "      <td>0</td>\n",
       "      <td>1</td>\n",
       "      <td>25</td>\n",
       "      <td>265.1</td>\n",
       "      <td>110</td>\n",
       "      <td>45.07</td>\n",
       "      <td>197.4</td>\n",
       "      <td>99</td>\n",
       "      <td>...</td>\n",
       "      <td>244.7</td>\n",
       "      <td>91</td>\n",
       "      <td>11.01</td>\n",
       "      <td>10.0</td>\n",
       "      <td>3</td>\n",
       "      <td>2.70</td>\n",
       "      <td>1</td>\n",
       "      <td>0</td>\n",
       "      <td>1</td>\n",
       "      <td>0</td>\n",
       "    </tr>\n",
       "    <tr>\n",
       "      <th>1</th>\n",
       "      <td>OH</td>\n",
       "      <td>107</td>\n",
       "      <td>0</td>\n",
       "      <td>1</td>\n",
       "      <td>26</td>\n",
       "      <td>161.6</td>\n",
       "      <td>123</td>\n",
       "      <td>27.47</td>\n",
       "      <td>195.5</td>\n",
       "      <td>103</td>\n",
       "      <td>...</td>\n",
       "      <td>254.4</td>\n",
       "      <td>103</td>\n",
       "      <td>11.45</td>\n",
       "      <td>13.7</td>\n",
       "      <td>3</td>\n",
       "      <td>3.70</td>\n",
       "      <td>1</td>\n",
       "      <td>0</td>\n",
       "      <td>1</td>\n",
       "      <td>0</td>\n",
       "    </tr>\n",
       "    <tr>\n",
       "      <th>2</th>\n",
       "      <td>NJ</td>\n",
       "      <td>137</td>\n",
       "      <td>0</td>\n",
       "      <td>0</td>\n",
       "      <td>0</td>\n",
       "      <td>243.4</td>\n",
       "      <td>114</td>\n",
       "      <td>41.38</td>\n",
       "      <td>121.2</td>\n",
       "      <td>110</td>\n",
       "      <td>...</td>\n",
       "      <td>162.6</td>\n",
       "      <td>104</td>\n",
       "      <td>7.32</td>\n",
       "      <td>12.2</td>\n",
       "      <td>5</td>\n",
       "      <td>3.29</td>\n",
       "      <td>0</td>\n",
       "      <td>0</td>\n",
       "      <td>1</td>\n",
       "      <td>0</td>\n",
       "    </tr>\n",
       "    <tr>\n",
       "      <th>3</th>\n",
       "      <td>OH</td>\n",
       "      <td>84</td>\n",
       "      <td>1</td>\n",
       "      <td>0</td>\n",
       "      <td>0</td>\n",
       "      <td>299.4</td>\n",
       "      <td>71</td>\n",
       "      <td>50.90</td>\n",
       "      <td>61.9</td>\n",
       "      <td>88</td>\n",
       "      <td>...</td>\n",
       "      <td>196.9</td>\n",
       "      <td>89</td>\n",
       "      <td>8.86</td>\n",
       "      <td>6.6</td>\n",
       "      <td>7</td>\n",
       "      <td>1.78</td>\n",
       "      <td>2</td>\n",
       "      <td>0</td>\n",
       "      <td>0</td>\n",
       "      <td>0</td>\n",
       "    </tr>\n",
       "    <tr>\n",
       "      <th>4</th>\n",
       "      <td>OK</td>\n",
       "      <td>75</td>\n",
       "      <td>1</td>\n",
       "      <td>0</td>\n",
       "      <td>0</td>\n",
       "      <td>166.7</td>\n",
       "      <td>113</td>\n",
       "      <td>28.34</td>\n",
       "      <td>148.3</td>\n",
       "      <td>122</td>\n",
       "      <td>...</td>\n",
       "      <td>186.9</td>\n",
       "      <td>121</td>\n",
       "      <td>8.41</td>\n",
       "      <td>10.1</td>\n",
       "      <td>3</td>\n",
       "      <td>2.73</td>\n",
       "      <td>3</td>\n",
       "      <td>0</td>\n",
       "      <td>1</td>\n",
       "      <td>0</td>\n",
       "    </tr>\n",
       "  </tbody>\n",
       "</table>\n",
       "<p>5 rows × 21 columns</p>\n",
       "</div>"
      ],
      "text/plain": [
       "  state  account_length  international_plan  voice_mail_plan  \\\n",
       "0    KS             128                   0                1   \n",
       "1    OH             107                   0                1   \n",
       "2    NJ             137                   0                0   \n",
       "3    OH              84                   1                0   \n",
       "4    OK              75                   1                0   \n",
       "\n",
       "   number_vmail_messages  total_day_minutes  total_day_calls  \\\n",
       "0                     25              265.1              110   \n",
       "1                     26              161.6              123   \n",
       "2                      0              243.4              114   \n",
       "3                      0              299.4               71   \n",
       "4                      0              166.7              113   \n",
       "\n",
       "   total_day_charge  total_eve_minutes  total_eve_calls  ...  \\\n",
       "0             45.07              197.4               99  ...   \n",
       "1             27.47              195.5              103  ...   \n",
       "2             41.38              121.2              110  ...   \n",
       "3             50.90               61.9               88  ...   \n",
       "4             28.34              148.3              122  ...   \n",
       "\n",
       "   total_night_minutes  total_night_calls  total_night_charge  \\\n",
       "0                244.7                 91               11.01   \n",
       "1                254.4                103               11.45   \n",
       "2                162.6                104                7.32   \n",
       "3                196.9                 89                8.86   \n",
       "4                186.9                121                8.41   \n",
       "\n",
       "   total_intl_minutes  total_intl_calls  total_intl_charge  \\\n",
       "0                10.0                 3               2.70   \n",
       "1                13.7                 3               3.70   \n",
       "2                12.2                 5               3.29   \n",
       "3                 6.6                 7               1.78   \n",
       "4                10.1                 3               2.73   \n",
       "\n",
       "   number_customer_service_calls  churn  area_code_area_code_415  \\\n",
       "0                              1      0                        1   \n",
       "1                              1      0                        1   \n",
       "2                              0      0                        1   \n",
       "3                              2      0                        0   \n",
       "4                              3      0                        1   \n",
       "\n",
       "   area_code_area_code_510  \n",
       "0                        0  \n",
       "1                        0  \n",
       "2                        0  \n",
       "3                        0  \n",
       "4                        0  \n",
       "\n",
       "[5 rows x 21 columns]"
      ]
     },
     "execution_count": 377,
     "metadata": {},
     "output_type": "execute_result"
    }
   ],
   "source": [
    "df.head()"
   ]
  },
  {
   "cell_type": "code",
   "execution_count": 378,
   "id": "fd49f7bc",
   "metadata": {},
   "outputs": [],
   "source": [
    "# i split the data but the dataset itself is imbalanced. \n",
    "# To counter this we have two methods : upsampling and downsampling\n",
    "# we will go with upsampling of minortiy dataset here"
   ]
  },
  {
   "cell_type": "code",
   "execution_count": 379,
   "id": "b2625ba3",
   "metadata": {},
   "outputs": [
    {
     "data": {
      "text/plain": [
       "0    2850\n",
       "1     483\n",
       "Name: churn, dtype: int64"
      ]
     },
     "execution_count": 379,
     "metadata": {},
     "output_type": "execute_result"
    }
   ],
   "source": [
    "df['churn'].value_counts()"
   ]
  },
  {
   "cell_type": "code",
   "execution_count": 380,
   "id": "f692bc56",
   "metadata": {},
   "outputs": [],
   "source": [
    "churn_majo= df[df['churn']==0]"
   ]
  },
  {
   "cell_type": "code",
   "execution_count": 381,
   "id": "9307d248",
   "metadata": {},
   "outputs": [],
   "source": [
    "churn_mino= df[df['churn']==1]"
   ]
  },
  {
   "cell_type": "code",
   "execution_count": 382,
   "id": "46d220c4",
   "metadata": {},
   "outputs": [],
   "source": [
    "from sklearn.utils import resample"
   ]
  },
  {
   "cell_type": "code",
   "execution_count": 383,
   "id": "3abc266e",
   "metadata": {},
   "outputs": [],
   "source": [
    "mino_upscale= resample( churn_mino ,replace=True,random_state=42,n_samples=len(churn_majo))"
   ]
  },
  {
   "cell_type": "code",
   "execution_count": 384,
   "id": "9d25191c",
   "metadata": {},
   "outputs": [
    {
     "data": {
      "text/plain": [
       "(2850, 21)"
      ]
     },
     "execution_count": 384,
     "metadata": {},
     "output_type": "execute_result"
    }
   ],
   "source": [
    "mino_upscale.shape"
   ]
  },
  {
   "cell_type": "code",
   "execution_count": 385,
   "id": "c3d3f669",
   "metadata": {},
   "outputs": [],
   "source": [
    "upsampled_df= pd.concat([churn_majo,mino_upscale])"
   ]
  },
  {
   "cell_type": "code",
   "execution_count": 386,
   "id": "9983a16b",
   "metadata": {},
   "outputs": [
    {
     "data": {
      "text/html": [
       "<div>\n",
       "<style scoped>\n",
       "    .dataframe tbody tr th:only-of-type {\n",
       "        vertical-align: middle;\n",
       "    }\n",
       "\n",
       "    .dataframe tbody tr th {\n",
       "        vertical-align: top;\n",
       "    }\n",
       "\n",
       "    .dataframe thead th {\n",
       "        text-align: right;\n",
       "    }\n",
       "</style>\n",
       "<table border=\"1\" class=\"dataframe\">\n",
       "  <thead>\n",
       "    <tr style=\"text-align: right;\">\n",
       "      <th></th>\n",
       "      <th>state</th>\n",
       "      <th>account_length</th>\n",
       "      <th>international_plan</th>\n",
       "      <th>voice_mail_plan</th>\n",
       "      <th>number_vmail_messages</th>\n",
       "      <th>total_day_minutes</th>\n",
       "      <th>total_day_calls</th>\n",
       "      <th>total_day_charge</th>\n",
       "      <th>total_eve_minutes</th>\n",
       "      <th>total_eve_calls</th>\n",
       "      <th>...</th>\n",
       "      <th>total_night_minutes</th>\n",
       "      <th>total_night_calls</th>\n",
       "      <th>total_night_charge</th>\n",
       "      <th>total_intl_minutes</th>\n",
       "      <th>total_intl_calls</th>\n",
       "      <th>total_intl_charge</th>\n",
       "      <th>number_customer_service_calls</th>\n",
       "      <th>churn</th>\n",
       "      <th>area_code_area_code_415</th>\n",
       "      <th>area_code_area_code_510</th>\n",
       "    </tr>\n",
       "  </thead>\n",
       "  <tbody>\n",
       "    <tr>\n",
       "      <th>830</th>\n",
       "      <td>CO</td>\n",
       "      <td>121</td>\n",
       "      <td>1</td>\n",
       "      <td>0</td>\n",
       "      <td>0</td>\n",
       "      <td>167.7</td>\n",
       "      <td>94</td>\n",
       "      <td>28.51</td>\n",
       "      <td>93.7</td>\n",
       "      <td>121</td>\n",
       "      <td>...</td>\n",
       "      <td>241.3</td>\n",
       "      <td>115</td>\n",
       "      <td>10.86</td>\n",
       "      <td>13.4</td>\n",
       "      <td>1</td>\n",
       "      <td>3.62</td>\n",
       "      <td>3</td>\n",
       "      <td>1</td>\n",
       "      <td>0</td>\n",
       "      <td>0</td>\n",
       "    </tr>\n",
       "    <tr>\n",
       "      <th>2419</th>\n",
       "      <td>CA</td>\n",
       "      <td>37</td>\n",
       "      <td>0</td>\n",
       "      <td>0</td>\n",
       "      <td>0</td>\n",
       "      <td>239.9</td>\n",
       "      <td>120</td>\n",
       "      <td>40.78</td>\n",
       "      <td>261.6</td>\n",
       "      <td>88</td>\n",
       "      <td>...</td>\n",
       "      <td>207.1</td>\n",
       "      <td>88</td>\n",
       "      <td>9.32</td>\n",
       "      <td>8.9</td>\n",
       "      <td>4</td>\n",
       "      <td>2.40</td>\n",
       "      <td>2</td>\n",
       "      <td>1</td>\n",
       "      <td>0</td>\n",
       "      <td>1</td>\n",
       "    </tr>\n",
       "    <tr>\n",
       "      <th>2213</th>\n",
       "      <td>TX</td>\n",
       "      <td>98</td>\n",
       "      <td>0</td>\n",
       "      <td>0</td>\n",
       "      <td>0</td>\n",
       "      <td>217.2</td>\n",
       "      <td>121</td>\n",
       "      <td>36.92</td>\n",
       "      <td>303.4</td>\n",
       "      <td>73</td>\n",
       "      <td>...</td>\n",
       "      <td>197.1</td>\n",
       "      <td>71</td>\n",
       "      <td>8.87</td>\n",
       "      <td>12.4</td>\n",
       "      <td>2</td>\n",
       "      <td>3.35</td>\n",
       "      <td>0</td>\n",
       "      <td>1</td>\n",
       "      <td>1</td>\n",
       "      <td>0</td>\n",
       "    </tr>\n",
       "    <tr>\n",
       "      <th>905</th>\n",
       "      <td>WV</td>\n",
       "      <td>161</td>\n",
       "      <td>0</td>\n",
       "      <td>0</td>\n",
       "      <td>0</td>\n",
       "      <td>191.9</td>\n",
       "      <td>113</td>\n",
       "      <td>32.62</td>\n",
       "      <td>70.9</td>\n",
       "      <td>87</td>\n",
       "      <td>...</td>\n",
       "      <td>204.8</td>\n",
       "      <td>107</td>\n",
       "      <td>9.22</td>\n",
       "      <td>13.4</td>\n",
       "      <td>4</td>\n",
       "      <td>3.62</td>\n",
       "      <td>4</td>\n",
       "      <td>1</td>\n",
       "      <td>1</td>\n",
       "      <td>0</td>\n",
       "    </tr>\n",
       "    <tr>\n",
       "      <th>968</th>\n",
       "      <td>NM</td>\n",
       "      <td>122</td>\n",
       "      <td>0</td>\n",
       "      <td>1</td>\n",
       "      <td>33</td>\n",
       "      <td>174.9</td>\n",
       "      <td>103</td>\n",
       "      <td>29.73</td>\n",
       "      <td>248.2</td>\n",
       "      <td>105</td>\n",
       "      <td>...</td>\n",
       "      <td>164.6</td>\n",
       "      <td>116</td>\n",
       "      <td>7.41</td>\n",
       "      <td>13.5</td>\n",
       "      <td>3</td>\n",
       "      <td>3.65</td>\n",
       "      <td>1</td>\n",
       "      <td>1</td>\n",
       "      <td>0</td>\n",
       "      <td>0</td>\n",
       "    </tr>\n",
       "  </tbody>\n",
       "</table>\n",
       "<p>5 rows × 21 columns</p>\n",
       "</div>"
      ],
      "text/plain": [
       "     state  account_length  international_plan  voice_mail_plan  \\\n",
       "830     CO             121                   1                0   \n",
       "2419    CA              37                   0                0   \n",
       "2213    TX              98                   0                0   \n",
       "905     WV             161                   0                0   \n",
       "968     NM             122                   0                1   \n",
       "\n",
       "      number_vmail_messages  total_day_minutes  total_day_calls  \\\n",
       "830                       0              167.7               94   \n",
       "2419                      0              239.9              120   \n",
       "2213                      0              217.2              121   \n",
       "905                       0              191.9              113   \n",
       "968                      33              174.9              103   \n",
       "\n",
       "      total_day_charge  total_eve_minutes  total_eve_calls  ...  \\\n",
       "830              28.51               93.7              121  ...   \n",
       "2419             40.78              261.6               88  ...   \n",
       "2213             36.92              303.4               73  ...   \n",
       "905              32.62               70.9               87  ...   \n",
       "968              29.73              248.2              105  ...   \n",
       "\n",
       "      total_night_minutes  total_night_calls  total_night_charge  \\\n",
       "830                 241.3                115               10.86   \n",
       "2419                207.1                 88                9.32   \n",
       "2213                197.1                 71                8.87   \n",
       "905                 204.8                107                9.22   \n",
       "968                 164.6                116                7.41   \n",
       "\n",
       "      total_intl_minutes  total_intl_calls  total_intl_charge  \\\n",
       "830                 13.4                 1               3.62   \n",
       "2419                 8.9                 4               2.40   \n",
       "2213                12.4                 2               3.35   \n",
       "905                 13.4                 4               3.62   \n",
       "968                 13.5                 3               3.65   \n",
       "\n",
       "      number_customer_service_calls  churn  area_code_area_code_415  \\\n",
       "830                               3      1                        0   \n",
       "2419                              2      1                        0   \n",
       "2213                              0      1                        1   \n",
       "905                               4      1                        1   \n",
       "968                               1      1                        0   \n",
       "\n",
       "      area_code_area_code_510  \n",
       "830                         0  \n",
       "2419                        1  \n",
       "2213                        0  \n",
       "905                         0  \n",
       "968                         0  \n",
       "\n",
       "[5 rows x 21 columns]"
      ]
     },
     "execution_count": 386,
     "metadata": {},
     "output_type": "execute_result"
    }
   ],
   "source": [
    "upsampled_df.tail()"
   ]
  },
  {
   "cell_type": "code",
   "execution_count": 387,
   "id": "8faf9a11",
   "metadata": {},
   "outputs": [
    {
     "data": {
      "text/plain": [
       "(5700, 21)"
      ]
     },
     "execution_count": 387,
     "metadata": {},
     "output_type": "execute_result"
    }
   ],
   "source": [
    "upsampled_df.shape"
   ]
  },
  {
   "cell_type": "code",
   "execution_count": 388,
   "id": "bbc5bb3c",
   "metadata": {},
   "outputs": [],
   "source": [
    "# we will normalize this new df for log reg to work well\n",
    "from sklearn.preprocessing import StandardScaler"
   ]
  },
  {
   "cell_type": "code",
   "execution_count": 389,
   "id": "3170e4f2",
   "metadata": {},
   "outputs": [],
   "source": [
    "X= upsampled_df.drop(['churn','state'],axis=1)\n",
    "y=upsampled_df['churn']\n",
    "X_train,X_test,y_train,y_test = train_test_split(X,y,test_size=0.15,random_state=42)"
   ]
  },
  {
   "cell_type": "code",
   "execution_count": 390,
   "id": "58d16451",
   "metadata": {},
   "outputs": [
    {
     "data": {
      "text/plain": [
       "pandas.core.series.Series"
      ]
     },
     "execution_count": 390,
     "metadata": {},
     "output_type": "execute_result"
    }
   ],
   "source": [
    "type(y)"
   ]
  },
  {
   "cell_type": "code",
   "execution_count": 391,
   "id": "f36a3811",
   "metadata": {},
   "outputs": [
    {
     "data": {
      "text/plain": [
       "(5700, 19)"
      ]
     },
     "execution_count": 391,
     "metadata": {},
     "output_type": "execute_result"
    }
   ],
   "source": [
    "X.shape"
   ]
  },
  {
   "cell_type": "code",
   "execution_count": 392,
   "id": "fa4004f7",
   "metadata": {},
   "outputs": [],
   "source": [
    "# standardizing X data"
   ]
  },
  {
   "cell_type": "code",
   "execution_count": 393,
   "id": "24783c50",
   "metadata": {},
   "outputs": [
    {
     "data": {
      "text/html": [
       "<div>\n",
       "<style scoped>\n",
       "    .dataframe tbody tr th:only-of-type {\n",
       "        vertical-align: middle;\n",
       "    }\n",
       "\n",
       "    .dataframe tbody tr th {\n",
       "        vertical-align: top;\n",
       "    }\n",
       "\n",
       "    .dataframe thead th {\n",
       "        text-align: right;\n",
       "    }\n",
       "</style>\n",
       "<table border=\"1\" class=\"dataframe\">\n",
       "  <thead>\n",
       "    <tr style=\"text-align: right;\">\n",
       "      <th></th>\n",
       "      <th>account_length</th>\n",
       "      <th>international_plan</th>\n",
       "      <th>voice_mail_plan</th>\n",
       "      <th>number_vmail_messages</th>\n",
       "      <th>total_day_minutes</th>\n",
       "      <th>total_day_calls</th>\n",
       "      <th>total_day_charge</th>\n",
       "      <th>total_eve_minutes</th>\n",
       "      <th>total_eve_calls</th>\n",
       "      <th>total_eve_charge</th>\n",
       "      <th>total_night_minutes</th>\n",
       "      <th>total_night_calls</th>\n",
       "      <th>total_night_charge</th>\n",
       "      <th>total_intl_minutes</th>\n",
       "      <th>total_intl_calls</th>\n",
       "      <th>total_intl_charge</th>\n",
       "      <th>number_customer_service_calls</th>\n",
       "      <th>area_code_area_code_415</th>\n",
       "      <th>area_code_area_code_510</th>\n",
       "    </tr>\n",
       "  </thead>\n",
       "  <tbody>\n",
       "    <tr>\n",
       "      <th>2825</th>\n",
       "      <td>99</td>\n",
       "      <td>0</td>\n",
       "      <td>0</td>\n",
       "      <td>0</td>\n",
       "      <td>128.3</td>\n",
       "      <td>78</td>\n",
       "      <td>21.81</td>\n",
       "      <td>215.3</td>\n",
       "      <td>120</td>\n",
       "      <td>18.30</td>\n",
       "      <td>143.7</td>\n",
       "      <td>140</td>\n",
       "      <td>6.47</td>\n",
       "      <td>14.3</td>\n",
       "      <td>9</td>\n",
       "      <td>3.86</td>\n",
       "      <td>2</td>\n",
       "      <td>0</td>\n",
       "      <td>1</td>\n",
       "    </tr>\n",
       "    <tr>\n",
       "      <th>1351</th>\n",
       "      <td>13</td>\n",
       "      <td>0</td>\n",
       "      <td>0</td>\n",
       "      <td>0</td>\n",
       "      <td>58.4</td>\n",
       "      <td>121</td>\n",
       "      <td>9.93</td>\n",
       "      <td>262.2</td>\n",
       "      <td>64</td>\n",
       "      <td>22.29</td>\n",
       "      <td>159.0</td>\n",
       "      <td>115</td>\n",
       "      <td>7.15</td>\n",
       "      <td>11.9</td>\n",
       "      <td>5</td>\n",
       "      <td>3.21</td>\n",
       "      <td>1</td>\n",
       "      <td>1</td>\n",
       "      <td>0</td>\n",
       "    </tr>\n",
       "    <tr>\n",
       "      <th>1472</th>\n",
       "      <td>76</td>\n",
       "      <td>1</td>\n",
       "      <td>0</td>\n",
       "      <td>0</td>\n",
       "      <td>273.3</td>\n",
       "      <td>66</td>\n",
       "      <td>46.46</td>\n",
       "      <td>263.6</td>\n",
       "      <td>121</td>\n",
       "      <td>22.41</td>\n",
       "      <td>165.2</td>\n",
       "      <td>84</td>\n",
       "      <td>7.43</td>\n",
       "      <td>12.0</td>\n",
       "      <td>7</td>\n",
       "      <td>3.24</td>\n",
       "      <td>1</td>\n",
       "      <td>1</td>\n",
       "      <td>0</td>\n",
       "    </tr>\n",
       "    <tr>\n",
       "      <th>1777</th>\n",
       "      <td>149</td>\n",
       "      <td>0</td>\n",
       "      <td>0</td>\n",
       "      <td>0</td>\n",
       "      <td>242.5</td>\n",
       "      <td>83</td>\n",
       "      <td>41.23</td>\n",
       "      <td>245.4</td>\n",
       "      <td>97</td>\n",
       "      <td>20.86</td>\n",
       "      <td>219.6</td>\n",
       "      <td>80</td>\n",
       "      <td>9.88</td>\n",
       "      <td>10.0</td>\n",
       "      <td>3</td>\n",
       "      <td>2.70</td>\n",
       "      <td>3</td>\n",
       "      <td>1</td>\n",
       "      <td>0</td>\n",
       "    </tr>\n",
       "    <tr>\n",
       "      <th>2914</th>\n",
       "      <td>65</td>\n",
       "      <td>0</td>\n",
       "      <td>1</td>\n",
       "      <td>34</td>\n",
       "      <td>208.8</td>\n",
       "      <td>119</td>\n",
       "      <td>35.50</td>\n",
       "      <td>142.1</td>\n",
       "      <td>106</td>\n",
       "      <td>12.08</td>\n",
       "      <td>214.6</td>\n",
       "      <td>87</td>\n",
       "      <td>9.66</td>\n",
       "      <td>12.5</td>\n",
       "      <td>4</td>\n",
       "      <td>3.38</td>\n",
       "      <td>4</td>\n",
       "      <td>1</td>\n",
       "      <td>0</td>\n",
       "    </tr>\n",
       "  </tbody>\n",
       "</table>\n",
       "</div>"
      ],
      "text/plain": [
       "      account_length  international_plan  voice_mail_plan  \\\n",
       "2825              99                   0                0   \n",
       "1351              13                   0                0   \n",
       "1472              76                   1                0   \n",
       "1777             149                   0                0   \n",
       "2914              65                   0                1   \n",
       "\n",
       "      number_vmail_messages  total_day_minutes  total_day_calls  \\\n",
       "2825                      0              128.3               78   \n",
       "1351                      0               58.4              121   \n",
       "1472                      0              273.3               66   \n",
       "1777                      0              242.5               83   \n",
       "2914                     34              208.8              119   \n",
       "\n",
       "      total_day_charge  total_eve_minutes  total_eve_calls  total_eve_charge  \\\n",
       "2825             21.81              215.3              120             18.30   \n",
       "1351              9.93              262.2               64             22.29   \n",
       "1472             46.46              263.6              121             22.41   \n",
       "1777             41.23              245.4               97             20.86   \n",
       "2914             35.50              142.1              106             12.08   \n",
       "\n",
       "      total_night_minutes  total_night_calls  total_night_charge  \\\n",
       "2825                143.7                140                6.47   \n",
       "1351                159.0                115                7.15   \n",
       "1472                165.2                 84                7.43   \n",
       "1777                219.6                 80                9.88   \n",
       "2914                214.6                 87                9.66   \n",
       "\n",
       "      total_intl_minutes  total_intl_calls  total_intl_charge  \\\n",
       "2825                14.3                 9               3.86   \n",
       "1351                11.9                 5               3.21   \n",
       "1472                12.0                 7               3.24   \n",
       "1777                10.0                 3               2.70   \n",
       "2914                12.5                 4               3.38   \n",
       "\n",
       "      number_customer_service_calls  area_code_area_code_415  \\\n",
       "2825                              2                        0   \n",
       "1351                              1                        1   \n",
       "1472                              1                        1   \n",
       "1777                              3                        1   \n",
       "2914                              4                        1   \n",
       "\n",
       "      area_code_area_code_510  \n",
       "2825                        1  \n",
       "1351                        0  \n",
       "1472                        0  \n",
       "1777                        0  \n",
       "2914                        0  "
      ]
     },
     "execution_count": 393,
     "metadata": {},
     "output_type": "execute_result"
    }
   ],
   "source": [
    "X_train.head()"
   ]
  },
  {
   "cell_type": "code",
   "execution_count": 394,
   "id": "a772f646",
   "metadata": {},
   "outputs": [],
   "source": [
    "scaler = StandardScaler()\n",
    "X_train_scaled = scaler.fit_transform(X_train)\n",
    "X_test_scaled = scaler.transform(X_test)\n",
    "# X_train_scaled.head()"
   ]
  },
  {
   "cell_type": "code",
   "execution_count": 395,
   "id": "53883f4c",
   "metadata": {},
   "outputs": [],
   "source": [
    "\n",
    "X_train_scaled_df = pd.DataFrame(X_train_scaled, columns=X_train.columns)\n",
    "\n",
    "X_test_scaled_df = pd.DataFrame(X_test_scaled, columns=X_test.columns)"
   ]
  },
  {
   "cell_type": "code",
   "execution_count": 396,
   "id": "2f6325e7",
   "metadata": {},
   "outputs": [],
   "source": [
    "# now we continue with regression\n"
   ]
  },
  {
   "cell_type": "code",
   "execution_count": 397,
   "id": "51934a69",
   "metadata": {},
   "outputs": [],
   "source": [
    "model= LogisticRegression(solver='newton-cg',C=0.01,max_iter=50)"
   ]
  },
  {
   "cell_type": "code",
   "execution_count": 398,
   "id": "d815a2a9",
   "metadata": {},
   "outputs": [
    {
     "data": {
      "text/html": [
       "<div>\n",
       "<style scoped>\n",
       "    .dataframe tbody tr th:only-of-type {\n",
       "        vertical-align: middle;\n",
       "    }\n",
       "\n",
       "    .dataframe tbody tr th {\n",
       "        vertical-align: top;\n",
       "    }\n",
       "\n",
       "    .dataframe thead th {\n",
       "        text-align: right;\n",
       "    }\n",
       "</style>\n",
       "<table border=\"1\" class=\"dataframe\">\n",
       "  <thead>\n",
       "    <tr style=\"text-align: right;\">\n",
       "      <th></th>\n",
       "      <th>account_length</th>\n",
       "      <th>international_plan</th>\n",
       "      <th>voice_mail_plan</th>\n",
       "      <th>number_vmail_messages</th>\n",
       "      <th>total_day_minutes</th>\n",
       "      <th>total_day_calls</th>\n",
       "      <th>total_day_charge</th>\n",
       "      <th>total_eve_minutes</th>\n",
       "      <th>total_eve_calls</th>\n",
       "      <th>total_eve_charge</th>\n",
       "      <th>total_night_minutes</th>\n",
       "      <th>total_night_calls</th>\n",
       "      <th>total_night_charge</th>\n",
       "      <th>total_intl_minutes</th>\n",
       "      <th>total_intl_calls</th>\n",
       "      <th>total_intl_charge</th>\n",
       "      <th>number_customer_service_calls</th>\n",
       "      <th>area_code_area_code_415</th>\n",
       "      <th>area_code_area_code_510</th>\n",
       "    </tr>\n",
       "  </thead>\n",
       "  <tbody>\n",
       "    <tr>\n",
       "      <th>0</th>\n",
       "      <td>128</td>\n",
       "      <td>0</td>\n",
       "      <td>1</td>\n",
       "      <td>25</td>\n",
       "      <td>265.1</td>\n",
       "      <td>110</td>\n",
       "      <td>45.07</td>\n",
       "      <td>197.4</td>\n",
       "      <td>99</td>\n",
       "      <td>16.78</td>\n",
       "      <td>244.7</td>\n",
       "      <td>91</td>\n",
       "      <td>11.01</td>\n",
       "      <td>10.0</td>\n",
       "      <td>3</td>\n",
       "      <td>2.70</td>\n",
       "      <td>1</td>\n",
       "      <td>1</td>\n",
       "      <td>0</td>\n",
       "    </tr>\n",
       "    <tr>\n",
       "      <th>1</th>\n",
       "      <td>107</td>\n",
       "      <td>0</td>\n",
       "      <td>1</td>\n",
       "      <td>26</td>\n",
       "      <td>161.6</td>\n",
       "      <td>123</td>\n",
       "      <td>27.47</td>\n",
       "      <td>195.5</td>\n",
       "      <td>103</td>\n",
       "      <td>16.62</td>\n",
       "      <td>254.4</td>\n",
       "      <td>103</td>\n",
       "      <td>11.45</td>\n",
       "      <td>13.7</td>\n",
       "      <td>3</td>\n",
       "      <td>3.70</td>\n",
       "      <td>1</td>\n",
       "      <td>1</td>\n",
       "      <td>0</td>\n",
       "    </tr>\n",
       "    <tr>\n",
       "      <th>2</th>\n",
       "      <td>137</td>\n",
       "      <td>0</td>\n",
       "      <td>0</td>\n",
       "      <td>0</td>\n",
       "      <td>243.4</td>\n",
       "      <td>114</td>\n",
       "      <td>41.38</td>\n",
       "      <td>121.2</td>\n",
       "      <td>110</td>\n",
       "      <td>10.30</td>\n",
       "      <td>162.6</td>\n",
       "      <td>104</td>\n",
       "      <td>7.32</td>\n",
       "      <td>12.2</td>\n",
       "      <td>5</td>\n",
       "      <td>3.29</td>\n",
       "      <td>0</td>\n",
       "      <td>1</td>\n",
       "      <td>0</td>\n",
       "    </tr>\n",
       "    <tr>\n",
       "      <th>3</th>\n",
       "      <td>84</td>\n",
       "      <td>1</td>\n",
       "      <td>0</td>\n",
       "      <td>0</td>\n",
       "      <td>299.4</td>\n",
       "      <td>71</td>\n",
       "      <td>50.90</td>\n",
       "      <td>61.9</td>\n",
       "      <td>88</td>\n",
       "      <td>5.26</td>\n",
       "      <td>196.9</td>\n",
       "      <td>89</td>\n",
       "      <td>8.86</td>\n",
       "      <td>6.6</td>\n",
       "      <td>7</td>\n",
       "      <td>1.78</td>\n",
       "      <td>2</td>\n",
       "      <td>0</td>\n",
       "      <td>0</td>\n",
       "    </tr>\n",
       "    <tr>\n",
       "      <th>4</th>\n",
       "      <td>75</td>\n",
       "      <td>1</td>\n",
       "      <td>0</td>\n",
       "      <td>0</td>\n",
       "      <td>166.7</td>\n",
       "      <td>113</td>\n",
       "      <td>28.34</td>\n",
       "      <td>148.3</td>\n",
       "      <td>122</td>\n",
       "      <td>12.61</td>\n",
       "      <td>186.9</td>\n",
       "      <td>121</td>\n",
       "      <td>8.41</td>\n",
       "      <td>10.1</td>\n",
       "      <td>3</td>\n",
       "      <td>2.73</td>\n",
       "      <td>3</td>\n",
       "      <td>1</td>\n",
       "      <td>0</td>\n",
       "    </tr>\n",
       "  </tbody>\n",
       "</table>\n",
       "</div>"
      ],
      "text/plain": [
       "   account_length  international_plan  voice_mail_plan  number_vmail_messages  \\\n",
       "0             128                   0                1                     25   \n",
       "1             107                   0                1                     26   \n",
       "2             137                   0                0                      0   \n",
       "3              84                   1                0                      0   \n",
       "4              75                   1                0                      0   \n",
       "\n",
       "   total_day_minutes  total_day_calls  total_day_charge  total_eve_minutes  \\\n",
       "0              265.1              110             45.07              197.4   \n",
       "1              161.6              123             27.47              195.5   \n",
       "2              243.4              114             41.38              121.2   \n",
       "3              299.4               71             50.90               61.9   \n",
       "4              166.7              113             28.34              148.3   \n",
       "\n",
       "   total_eve_calls  total_eve_charge  total_night_minutes  total_night_calls  \\\n",
       "0               99             16.78                244.7                 91   \n",
       "1              103             16.62                254.4                103   \n",
       "2              110             10.30                162.6                104   \n",
       "3               88              5.26                196.9                 89   \n",
       "4              122             12.61                186.9                121   \n",
       "\n",
       "   total_night_charge  total_intl_minutes  total_intl_calls  \\\n",
       "0               11.01                10.0                 3   \n",
       "1               11.45                13.7                 3   \n",
       "2                7.32                12.2                 5   \n",
       "3                8.86                 6.6                 7   \n",
       "4                8.41                10.1                 3   \n",
       "\n",
       "   total_intl_charge  number_customer_service_calls  area_code_area_code_415  \\\n",
       "0               2.70                              1                        1   \n",
       "1               3.70                              1                        1   \n",
       "2               3.29                              0                        1   \n",
       "3               1.78                              2                        0   \n",
       "4               2.73                              3                        1   \n",
       "\n",
       "   area_code_area_code_510  \n",
       "0                        0  \n",
       "1                        0  \n",
       "2                        0  \n",
       "3                        0  \n",
       "4                        0  "
      ]
     },
     "execution_count": 398,
     "metadata": {},
     "output_type": "execute_result"
    }
   ],
   "source": [
    "X.head()"
   ]
  },
  {
   "cell_type": "code",
   "execution_count": 399,
   "id": "de6790e8",
   "metadata": {},
   "outputs": [
    {
     "data": {
      "text/plain": [
       "LogisticRegression(C=0.01, max_iter=50, solver='newton-cg')"
      ]
     },
     "execution_count": 399,
     "metadata": {},
     "output_type": "execute_result"
    }
   ],
   "source": [
    "model.fit(X_train_scaled,y_train)\n",
    "# in logistic regression it is advised to normalize data as one of the measure to avoid failing of convergence"
   ]
  },
  {
   "cell_type": "code",
   "execution_count": 400,
   "id": "4e05babc",
   "metadata": {},
   "outputs": [],
   "source": [
    "y_predict= model.predict(X_test_scaled)"
   ]
  },
  {
   "cell_type": "code",
   "execution_count": 401,
   "id": "0cbb6eae",
   "metadata": {},
   "outputs": [],
   "source": [
    "# so we trained our model and got ypredict on you xtest"
   ]
  },
  {
   "cell_type": "code",
   "execution_count": 402,
   "id": "33baf6b2",
   "metadata": {},
   "outputs": [],
   "source": [
    "# Evaluation"
   ]
  },
  {
   "cell_type": "code",
   "execution_count": 403,
   "id": "06a1299e",
   "metadata": {},
   "outputs": [],
   "source": [
    "from sklearn.metrics import accuracy_score,classification_report,confusion_matrix,ConfusionMatrixDisplay"
   ]
  },
  {
   "cell_type": "code",
   "execution_count": 404,
   "id": "a4c1cc5c",
   "metadata": {
    "scrolled": false
   },
   "outputs": [
    {
     "data": {
      "text/plain": [
       "<sklearn.metrics._plot.confusion_matrix.ConfusionMatrixDisplay at 0x1ffe204b1f0>"
      ]
     },
     "execution_count": 404,
     "metadata": {},
     "output_type": "execute_result"
    },
    {
     "data": {
      "image/png": "[encoded data removed]",
      "text/plain": [
       "<Figure size 640x480 with 2 Axes>"
      ]
     },
     "metadata": {},
     "output_type": "display_data"
    }
   ],
   "source": [
    "cm = confusion_matrix(y_test, y_predict)\n",
    "disp = ConfusionMatrixDisplay(confusion_matrix=cm)\n",
    "disp.plot()"
   ]
  },
  {
   "cell_type": "code",
   "execution_count": 405,
   "id": "9a55334a",
   "metadata": {},
   "outputs": [
    {
     "name": "stdout",
     "output_type": "stream",
     "text": [
      "Accuracy: 0.7684210526315789\n",
      "Classification Report:\n",
      "               precision    recall  f1-score   support\n",
      "\n",
      "           0       0.79      0.75      0.77       439\n",
      "           1       0.75      0.78      0.77       416\n",
      "\n",
      "    accuracy                           0.77       855\n",
      "   macro avg       0.77      0.77      0.77       855\n",
      "weighted avg       0.77      0.77      0.77       855\n",
      "\n"
     ]
    }
   ],
   "source": [
    "#classification report\n",
    "print(\"Accuracy:\", accuracy_score(y_test, y_predict))\n",
    "print(\"Classification Report:\\n\",classification_report(y_test,y_predict))"
   ]
  },
  {
   "cell_type": "code",
   "execution_count": 406,
   "id": "0110b0a0",
   "metadata": {},
   "outputs": [],
   "source": [
    "# we will improve it\n",
    "# NOthing improved on changing the solve to sag -> newtonsag\n",
    "# c value worked better at 0.01 in comparison to 1 & 0.001 : PRecision improved to 0.79\n",
    "# maxiter kept at 200 and 2000 -> both gave same result, ALso same at 50\n",
    "# not converges at 10\n",
    "# also converges at 20\n",
    "# could have used grid CV for this but wont have see"
   ]
  },
  {
   "cell_type": "code",
   "execution_count": 407,
   "id": "347f40e5",
   "metadata": {},
   "outputs": [],
   "source": [
    "# Lets try Grid CV to find best hyperparams"
   ]
  },
  {
   "cell_type": "code",
   "execution_count": 408,
   "id": "70dadd96",
   "metadata": {},
   "outputs": [],
   "source": [
    "param_grid= {\n",
    "    'penalty' : ['l1','l2','elastinet','none'],\n",
    "    'solver' : ['lbfgs','newton-cg','liblinear','sag','saga'],\n",
    "    'C' : np.logspace(-4,4,20),\n",
    "    'max_iter': [20,50,100,200,1000]\n",
    "}"
   ]
  },
  {
   "cell_type": "code",
   "execution_count": 409,
   "id": "e0f25f04",
   "metadata": {},
   "outputs": [],
   "source": [
    "from sklearn.model_selection import GridSearchCV"
   ]
  },
  {
   "cell_type": "code",
   "execution_count": 410,
   "id": "63b3be6a",
   "metadata": {},
   "outputs": [
    {
     "data": {
      "text/html": [
       "<div>\n",
       "<style scoped>\n",
       "    .dataframe tbody tr th:only-of-type {\n",
       "        vertical-align: middle;\n",
       "    }\n",
       "\n",
       "    .dataframe tbody tr th {\n",
       "        vertical-align: top;\n",
       "    }\n",
       "\n",
       "    .dataframe thead th {\n",
       "        text-align: right;\n",
       "    }\n",
       "</style>\n",
       "<table border=\"1\" class=\"dataframe\">\n",
       "  <thead>\n",
       "    <tr style=\"text-align: right;\">\n",
       "      <th></th>\n",
       "      <th>account_length</th>\n",
       "      <th>international_plan</th>\n",
       "      <th>voice_mail_plan</th>\n",
       "      <th>number_vmail_messages</th>\n",
       "      <th>total_day_minutes</th>\n",
       "      <th>total_day_calls</th>\n",
       "      <th>total_day_charge</th>\n",
       "      <th>total_eve_minutes</th>\n",
       "      <th>total_eve_calls</th>\n",
       "      <th>total_eve_charge</th>\n",
       "      <th>total_night_minutes</th>\n",
       "      <th>total_night_calls</th>\n",
       "      <th>total_night_charge</th>\n",
       "      <th>total_intl_minutes</th>\n",
       "      <th>total_intl_calls</th>\n",
       "      <th>total_intl_charge</th>\n",
       "      <th>number_customer_service_calls</th>\n",
       "      <th>area_code_area_code_415</th>\n",
       "      <th>area_code_area_code_510</th>\n",
       "    </tr>\n",
       "  </thead>\n",
       "  <tbody>\n",
       "    <tr>\n",
       "      <th>0</th>\n",
       "      <td>-0.063037</td>\n",
       "      <td>-0.445052</td>\n",
       "      <td>-0.541008</td>\n",
       "      <td>-0.520757</td>\n",
       "      <td>-1.013967</td>\n",
       "      <td>-1.095344</td>\n",
       "      <td>-1.014109</td>\n",
       "      <td>0.192559</td>\n",
       "      <td>0.985793</td>\n",
       "      <td>0.192419</td>\n",
       "      <td>-1.218148</td>\n",
       "      <td>2.011842</td>\n",
       "      <td>-1.216570</td>\n",
       "      <td>1.371647</td>\n",
       "      <td>1.780210</td>\n",
       "      <td>1.369559</td>\n",
       "      <td>0.107037</td>\n",
       "      <td>-0.994032</td>\n",
       "      <td>1.736112</td>\n",
       "    </tr>\n",
       "    <tr>\n",
       "      <th>1</th>\n",
       "      <td>-2.231058</td>\n",
       "      <td>-0.445052</td>\n",
       "      <td>-0.541008</td>\n",
       "      <td>-0.520757</td>\n",
       "      <td>-2.131803</td>\n",
       "      <td>0.968101</td>\n",
       "      <td>-2.131659</td>\n",
       "      <td>1.097438</td>\n",
       "      <td>-1.831055</td>\n",
       "      <td>1.098116</td>\n",
       "      <td>-0.904493</td>\n",
       "      <td>0.741455</td>\n",
       "      <td>-0.906801</td>\n",
       "      <td>0.521800</td>\n",
       "      <td>0.230254</td>\n",
       "      <td>0.517095</td>\n",
       "      <td>-0.522325</td>\n",
       "      <td>1.006004</td>\n",
       "      <td>-0.576000</td>\n",
       "    </tr>\n",
       "    <tr>\n",
       "      <th>2</th>\n",
       "      <td>-0.642857</td>\n",
       "      <td>2.246929</td>\n",
       "      <td>-0.541008</td>\n",
       "      <td>-0.520757</td>\n",
       "      <td>1.304863</td>\n",
       "      <td>-1.671188</td>\n",
       "      <td>1.304713</td>\n",
       "      <td>1.124450</td>\n",
       "      <td>1.036094</td>\n",
       "      <td>1.125355</td>\n",
       "      <td>-0.777391</td>\n",
       "      <td>-0.833825</td>\n",
       "      <td>-0.779249</td>\n",
       "      <td>0.557210</td>\n",
       "      <td>1.005232</td>\n",
       "      <td>0.556439</td>\n",
       "      <td>-0.522325</td>\n",
       "      <td>1.006004</td>\n",
       "      <td>-0.576000</td>\n",
       "    </tr>\n",
       "    <tr>\n",
       "      <th>3</th>\n",
       "      <td>1.197441</td>\n",
       "      <td>-0.445052</td>\n",
       "      <td>-0.541008</td>\n",
       "      <td>-0.520757</td>\n",
       "      <td>0.812312</td>\n",
       "      <td>-0.855408</td>\n",
       "      <td>0.812727</td>\n",
       "      <td>0.773303</td>\n",
       "      <td>-0.171127</td>\n",
       "      <td>0.773518</td>\n",
       "      <td>0.337826</td>\n",
       "      <td>-1.037087</td>\n",
       "      <td>0.336830</td>\n",
       "      <td>-0.150996</td>\n",
       "      <td>-0.544724</td>\n",
       "      <td>-0.151761</td>\n",
       "      <td>0.736399</td>\n",
       "      <td>1.006004</td>\n",
       "      <td>-0.576000</td>\n",
       "    </tr>\n",
       "    <tr>\n",
       "      <th>4</th>\n",
       "      <td>-0.920162</td>\n",
       "      <td>-0.445052</td>\n",
       "      <td>1.848402</td>\n",
       "      <td>2.092864</td>\n",
       "      <td>0.273383</td>\n",
       "      <td>0.872127</td>\n",
       "      <td>0.273707</td>\n",
       "      <td>-1.219748</td>\n",
       "      <td>0.281581</td>\n",
       "      <td>-1.219470</td>\n",
       "      <td>0.235324</td>\n",
       "      <td>-0.681379</td>\n",
       "      <td>0.236610</td>\n",
       "      <td>0.734261</td>\n",
       "      <td>-0.157235</td>\n",
       "      <td>0.740047</td>\n",
       "      <td>1.365761</td>\n",
       "      <td>1.006004</td>\n",
       "      <td>-0.576000</td>\n",
       "    </tr>\n",
       "  </tbody>\n",
       "</table>\n",
       "</div>"
      ],
      "text/plain": [
       "   account_length  international_plan  voice_mail_plan  number_vmail_messages  \\\n",
       "0       -0.063037           -0.445052        -0.541008              -0.520757   \n",
       "1       -2.231058           -0.445052        -0.541008              -0.520757   \n",
       "2       -0.642857            2.246929        -0.541008              -0.520757   \n",
       "3        1.197441           -0.445052        -0.541008              -0.520757   \n",
       "4       -0.920162           -0.445052         1.848402               2.092864   \n",
       "\n",
       "   total_day_minutes  total_day_calls  total_day_charge  total_eve_minutes  \\\n",
       "0          -1.013967        -1.095344         -1.014109           0.192559   \n",
       "1          -2.131803         0.968101         -2.131659           1.097438   \n",
       "2           1.304863        -1.671188          1.304713           1.124450   \n",
       "3           0.812312        -0.855408          0.812727           0.773303   \n",
       "4           0.273383         0.872127          0.273707          -1.219748   \n",
       "\n",
       "   total_eve_calls  total_eve_charge  total_night_minutes  total_night_calls  \\\n",
       "0         0.985793          0.192419            -1.218148           2.011842   \n",
       "1        -1.831055          1.098116            -0.904493           0.741455   \n",
       "2         1.036094          1.125355            -0.777391          -0.833825   \n",
       "3        -0.171127          0.773518             0.337826          -1.037087   \n",
       "4         0.281581         -1.219470             0.235324          -0.681379   \n",
       "\n",
       "   total_night_charge  total_intl_minutes  total_intl_calls  \\\n",
       "0           -1.216570            1.371647          1.780210   \n",
       "1           -0.906801            0.521800          0.230254   \n",
       "2           -0.779249            0.557210          1.005232   \n",
       "3            0.336830           -0.150996         -0.544724   \n",
       "4            0.236610            0.734261         -0.157235   \n",
       "\n",
       "   total_intl_charge  number_customer_service_calls  area_code_area_code_415  \\\n",
       "0           1.369559                       0.107037                -0.994032   \n",
       "1           0.517095                      -0.522325                 1.006004   \n",
       "2           0.556439                      -0.522325                 1.006004   \n",
       "3          -0.151761                       0.736399                 1.006004   \n",
       "4           0.740047                       1.365761                 1.006004   \n",
       "\n",
       "   area_code_area_code_510  \n",
       "0                 1.736112  \n",
       "1                -0.576000  \n",
       "2                -0.576000  \n",
       "3                -0.576000  \n",
       "4                -0.576000  "
      ]
     },
     "execution_count": 410,
     "metadata": {},
     "output_type": "execute_result"
    }
   ],
   "source": [
    "X_train_scaled_df.head()"
   ]
  },
  {
   "cell_type": "code",
   "execution_count": 411,
   "id": "018ffecb",
   "metadata": {},
   "outputs": [],
   "source": [
    "loggrid= GridSearchCV(model,param_grid=param_grid,cv=3,verbose=True,n_jobs=-1)"
   ]
  },
  {
   "cell_type": "code",
   "execution_count": 412,
   "id": "3042bb4c",
   "metadata": {},
   "outputs": [
    {
     "name": "stdout",
     "output_type": "stream",
     "text": [
      "Fitting 3 folds for each of 2000 candidates, totalling 6000 fits\n"
     ]
    },
    {
     "name": "stderr",
     "output_type": "stream",
     "text": [
      "C:\\Users\\Om N. Gayamukhe\\anaconda3\\lib\\site-packages\\sklearn\\model_selection\\_validation.py:372: FitFailedWarning: \n",
      "2700 fits failed out of a total of 6000.\n",
      "The score on these train-test partitions for these parameters will be set to nan.\n",
      "If these failures are not expected, you can try to debug them by setting error_score='raise'.\n",
      "\n",
      "Below are more details about the failures:\n",
      "--------------------------------------------------------------------------------\n",
      "300 fits failed with the following error:\n",
      "Traceback (most recent call last):\n",
      "  File \"C:\\Users\\Om N. Gayamukhe\\anaconda3\\lib\\site-packages\\sklearn\\model_selection\\_validation.py\", line 680, in _fit_and_score\n",
      "    estimator.fit(X_train, y_train, **fit_params)\n",
      "  File \"C:\\Users\\Om N. Gayamukhe\\anaconda3\\lib\\site-packages\\sklearn\\linear_model\\_logistic.py\", line 1461, in fit\n",
      "    solver = _check_solver(self.solver, self.penalty, self.dual)\n",
      "  File \"C:\\Users\\Om N. Gayamukhe\\anaconda3\\lib\\site-packages\\sklearn\\linear_model\\_logistic.py\", line 447, in _check_solver\n",
      "    raise ValueError(\n",
      "ValueError: Solver lbfgs supports only 'l2' or 'none' penalties, got l1 penalty.\n",
      "\n",
      "--------------------------------------------------------------------------------\n",
      "300 fits failed with the following error:\n",
      "Traceback (most recent call last):\n",
      "  File \"C:\\Users\\Om N. Gayamukhe\\anaconda3\\lib\\site-packages\\sklearn\\model_selection\\_validation.py\", line 680, in _fit_and_score\n",
      "    estimator.fit(X_train, y_train, **fit_params)\n",
      "  File \"C:\\Users\\Om N. Gayamukhe\\anaconda3\\lib\\site-packages\\sklearn\\linear_model\\_logistic.py\", line 1461, in fit\n",
      "    solver = _check_solver(self.solver, self.penalty, self.dual)\n",
      "  File \"C:\\Users\\Om N. Gayamukhe\\anaconda3\\lib\\site-packages\\sklearn\\linear_model\\_logistic.py\", line 447, in _check_solver\n",
      "    raise ValueError(\n",
      "ValueError: Solver newton-cg supports only 'l2' or 'none' penalties, got l1 penalty.\n",
      "\n",
      "--------------------------------------------------------------------------------\n",
      "300 fits failed with the following error:\n",
      "Traceback (most recent call last):\n",
      "  File \"C:\\Users\\Om N. Gayamukhe\\anaconda3\\lib\\site-packages\\sklearn\\model_selection\\_validation.py\", line 680, in _fit_and_score\n",
      "    estimator.fit(X_train, y_train, **fit_params)\n",
      "  File \"C:\\Users\\Om N. Gayamukhe\\anaconda3\\lib\\site-packages\\sklearn\\linear_model\\_logistic.py\", line 1461, in fit\n",
      "    solver = _check_solver(self.solver, self.penalty, self.dual)\n",
      "  File \"C:\\Users\\Om N. Gayamukhe\\anaconda3\\lib\\site-packages\\sklearn\\linear_model\\_logistic.py\", line 447, in _check_solver\n",
      "    raise ValueError(\n",
      "ValueError: Solver sag supports only 'l2' or 'none' penalties, got l1 penalty.\n",
      "\n",
      "--------------------------------------------------------------------------------\n",
      "1500 fits failed with the following error:\n",
      "Traceback (most recent call last):\n",
      "  File \"C:\\Users\\Om N. Gayamukhe\\anaconda3\\lib\\site-packages\\sklearn\\model_selection\\_validation.py\", line 680, in _fit_and_score\n",
      "    estimator.fit(X_train, y_train, **fit_params)\n",
      "  File \"C:\\Users\\Om N. Gayamukhe\\anaconda3\\lib\\site-packages\\sklearn\\linear_model\\_logistic.py\", line 1461, in fit\n",
      "    solver = _check_solver(self.solver, self.penalty, self.dual)\n",
      "  File \"C:\\Users\\Om N. Gayamukhe\\anaconda3\\lib\\site-packages\\sklearn\\linear_model\\_logistic.py\", line 441, in _check_solver\n",
      "    raise ValueError(\n",
      "ValueError: Logistic Regression supports only penalties in ['l1', 'l2', 'elasticnet', 'none'], got elastinet.\n",
      "\n",
      "--------------------------------------------------------------------------------\n",
      "300 fits failed with the following error:\n",
      "Traceback (most recent call last):\n",
      "  File \"C:\\Users\\Om N. Gayamukhe\\anaconda3\\lib\\site-packages\\sklearn\\model_selection\\_validation.py\", line 680, in _fit_and_score\n",
      "    estimator.fit(X_train, y_train, **fit_params)\n",
      "  File \"C:\\Users\\Om N. Gayamukhe\\anaconda3\\lib\\site-packages\\sklearn\\linear_model\\_logistic.py\", line 1461, in fit\n",
      "    solver = _check_solver(self.solver, self.penalty, self.dual)\n",
      "  File \"C:\\Users\\Om N. Gayamukhe\\anaconda3\\lib\\site-packages\\sklearn\\linear_model\\_logistic.py\", line 464, in _check_solver\n",
      "    raise ValueError(\"penalty='none' is not supported for the liblinear solver\")\n",
      "ValueError: penalty='none' is not supported for the liblinear solver\n",
      "\n",
      "  warnings.warn(some_fits_failed_message, FitFailedWarning)\n",
      "C:\\Users\\Om N. Gayamukhe\\anaconda3\\lib\\site-packages\\sklearn\\model_selection\\_search.py:969: UserWarning: One or more of the test scores are non-finite: [       nan        nan 0.49762642 ...        nan 0.76759546 0.76904025]\n",
      "  warnings.warn(\n",
      "C:\\Users\\Om N. Gayamukhe\\anaconda3\\lib\\site-packages\\sklearn\\linear_model\\_logistic.py:1483: UserWarning: Setting penalty='none' will ignore the C and l1_ratio parameters\n",
      "  warnings.warn(\n",
      "C:\\Users\\Om N. Gayamukhe\\anaconda3\\lib\\site-packages\\sklearn\\linear_model\\_sag.py:352: ConvergenceWarning: The max_iter was reached which means the coef_ did not converge\n",
      "  warnings.warn(\n"
     ]
    }
   ],
   "source": [
    "best_model_log = loggrid.fit(X_train_scaled_df,y_train)"
   ]
  },
  {
   "cell_type": "code",
   "execution_count": 413,
   "id": "6ccb7cf1",
   "metadata": {},
   "outputs": [],
   "source": [
    "# so lot of combination were such that the params were not compatible with each other. Anyways"
   ]
  },
  {
   "cell_type": "code",
   "execution_count": 414,
   "id": "caf7fd53",
   "metadata": {},
   "outputs": [
    {
     "name": "stdout",
     "output_type": "stream",
     "text": [
      "Best Estimator: LogisticRegression(C=0.012742749857031334, max_iter=20, penalty='none',\n",
      "                   solver='sag')\n",
      "Best Parameters: {'C': 0.012742749857031334, 'max_iter': 20, 'penalty': 'none', 'solver': 'sag'}\n"
     ]
    }
   ],
   "source": [
    "# Display the best estimator and its parameters\n",
    "print(\"Best Estimator:\", loggrid.best_estimator_)\n",
    "print(\"Best Parameters:\", loggrid.best_params_)\n"
   ]
  },
  {
   "cell_type": "code",
   "execution_count": 415,
   "id": "b5be8e21",
   "metadata": {},
   "outputs": [],
   "source": [
    "# X_train_scaled.head()"
   ]
  },
  {
   "cell_type": "code",
   "execution_count": 416,
   "id": "586fa1ab",
   "metadata": {},
   "outputs": [
    {
     "data": {
      "text/plain": [
       "LogisticRegression(C=0.012742749857031334, max_iter=20, solver='sag')"
      ]
     },
     "execution_count": 416,
     "metadata": {},
     "output_type": "execute_result"
    }
   ],
   "source": [
    "# best_model = loggrid.best_estimator_   ->> penalty : none is giving problem to other params\n",
    "best_model=LogisticRegression(C=0.012742749857031334, max_iter=20,solver='sag')\n",
    "best_model.fit(X_train_scaled_df,y_train)\n",
    "# y_pred_new = best_model.predict(X_test)\n",
    "\n",
    "# print(\"Accuracy:\", accuracy_score(y_test, y_pred_new))\n",
    "# print(\"Classification Report:\\n\", classification_report(y_test, y_pred_new))\n",
    "# print(\"Confusion Matrix:\\n\", confusion_matrix(y_test, y_pred_new))"
   ]
  },
  {
   "cell_type": "code",
   "execution_count": 417,
   "id": "900a7e99",
   "metadata": {},
   "outputs": [],
   "source": [
    "y_pred_new = best_model.predict(X_test_scaled_df)"
   ]
  },
  {
   "cell_type": "code",
   "execution_count": 418,
   "id": "b789ce47",
   "metadata": {},
   "outputs": [
    {
     "data": {
      "text/plain": [
       "(855,)"
      ]
     },
     "execution_count": 418,
     "metadata": {},
     "output_type": "execute_result"
    }
   ],
   "source": [
    "y_pred_new.shape"
   ]
  },
  {
   "cell_type": "code",
   "execution_count": 419,
   "id": "50796067",
   "metadata": {},
   "outputs": [
    {
     "name": "stdout",
     "output_type": "stream",
     "text": [
      "Accuracy: 0.7649122807017544\n",
      "Classification Report:\n",
      "               precision    recall  f1-score   support\n",
      "\n",
      "           0       0.78      0.75      0.77       439\n",
      "           1       0.75      0.78      0.76       416\n",
      "\n",
      "    accuracy                           0.76       855\n",
      "   macro avg       0.77      0.77      0.76       855\n",
      "weighted avg       0.77      0.76      0.76       855\n",
      "\n",
      "Confusion Matrix:\n",
      " [[330 109]\n",
      " [ 92 324]]\n"
     ]
    }
   ],
   "source": [
    "print(\"Accuracy:\", accuracy_score(y_test, y_pred_new))\n",
    "print(\"Classification Report:\\n\", classification_report(y_test, y_pred_new))\n",
    "print(\"Confusion Matrix:\\n\", confusion_matrix(y_test, y_pred_new))"
   ]
  },
  {
   "cell_type": "code",
   "execution_count": 420,
   "id": "db3bcc50",
   "metadata": {},
   "outputs": [
    {
     "data": {
      "text/plain": [
       "<sklearn.metrics._plot.confusion_matrix.ConfusionMatrixDisplay at 0x1ffdea75160>"
      ]
     },
     "execution_count": 420,
     "metadata": {},
     "output_type": "execute_result"
    },
    {
     "data": {
      "image/png": "[encoded data removed]",
      "text/plain": [
       "<Figure size 640x480 with 2 Axes>"
      ]
     },
     "metadata": {},
     "output_type": "display_data"
    }
   ],
   "source": [
    "cm = confusion_matrix(y_test, y_pred_new)\n",
    "disp = ConfusionMatrixDisplay(confusion_matrix=cm)\n",
    "disp.plot()"
   ]
  },
  {
   "cell_type": "code",
   "execution_count": 421,
   "id": "86d9db77",
   "metadata": {},
   "outputs": [],
   "source": [
    "# So after trying all the params combination the result is identical to the one performed intially :("
   ]
  },
  {
   "cell_type": "markdown",
   "id": "3ff82a6f",
   "metadata": {},
   "source": [
    "Model Evaluation on the Test data file"
   ]
  },
  {
   "cell_type": "code",
   "execution_count": 440,
   "id": "a8977f61",
   "metadata": {},
   "outputs": [],
   "source": [
    "test_df = pd.read_csv('Telecom_Test.csv')"
   ]
  },
  {
   "cell_type": "code",
   "execution_count": 441,
   "id": "786a371f",
   "metadata": {},
   "outputs": [
    {
     "data": {
      "text/html": [
       "<div>\n",
       "<style scoped>\n",
       "    .dataframe tbody tr th:only-of-type {\n",
       "        vertical-align: middle;\n",
       "    }\n",
       "\n",
       "    .dataframe tbody tr th {\n",
       "        vertical-align: top;\n",
       "    }\n",
       "\n",
       "    .dataframe thead th {\n",
       "        text-align: right;\n",
       "    }\n",
       "</style>\n",
       "<table border=\"1\" class=\"dataframe\">\n",
       "  <thead>\n",
       "    <tr style=\"text-align: right;\">\n",
       "      <th></th>\n",
       "      <th>Unnamed: 0</th>\n",
       "      <th>state</th>\n",
       "      <th>account_length</th>\n",
       "      <th>area_code</th>\n",
       "      <th>international_plan</th>\n",
       "      <th>voice_mail_plan</th>\n",
       "      <th>number_vmail_messages</th>\n",
       "      <th>total_day_minutes</th>\n",
       "      <th>total_day_calls</th>\n",
       "      <th>total_day_charge</th>\n",
       "      <th>...</th>\n",
       "      <th>total_eve_calls</th>\n",
       "      <th>total_eve_charge</th>\n",
       "      <th>total_night_minutes</th>\n",
       "      <th>total_night_calls</th>\n",
       "      <th>total_night_charge</th>\n",
       "      <th>total_intl_minutes</th>\n",
       "      <th>total_intl_calls</th>\n",
       "      <th>total_intl_charge</th>\n",
       "      <th>number_customer_service_calls</th>\n",
       "      <th>churn</th>\n",
       "    </tr>\n",
       "  </thead>\n",
       "  <tbody>\n",
       "    <tr>\n",
       "      <th>0</th>\n",
       "      <td>1</td>\n",
       "      <td>HI</td>\n",
       "      <td>101</td>\n",
       "      <td>area_code_510</td>\n",
       "      <td>no</td>\n",
       "      <td>no</td>\n",
       "      <td>0</td>\n",
       "      <td>70.9</td>\n",
       "      <td>123</td>\n",
       "      <td>12.05</td>\n",
       "      <td>...</td>\n",
       "      <td>73</td>\n",
       "      <td>18.01</td>\n",
       "      <td>236.0</td>\n",
       "      <td>73</td>\n",
       "      <td>10.62</td>\n",
       "      <td>10.6</td>\n",
       "      <td>3</td>\n",
       "      <td>2.86</td>\n",
       "      <td>3</td>\n",
       "      <td>no</td>\n",
       "    </tr>\n",
       "    <tr>\n",
       "      <th>1</th>\n",
       "      <td>2</td>\n",
       "      <td>MT</td>\n",
       "      <td>137</td>\n",
       "      <td>area_code_510</td>\n",
       "      <td>no</td>\n",
       "      <td>no</td>\n",
       "      <td>0</td>\n",
       "      <td>223.6</td>\n",
       "      <td>86</td>\n",
       "      <td>38.01</td>\n",
       "      <td>...</td>\n",
       "      <td>139</td>\n",
       "      <td>20.81</td>\n",
       "      <td>94.2</td>\n",
       "      <td>81</td>\n",
       "      <td>4.24</td>\n",
       "      <td>9.5</td>\n",
       "      <td>7</td>\n",
       "      <td>2.57</td>\n",
       "      <td>0</td>\n",
       "      <td>no</td>\n",
       "    </tr>\n",
       "    <tr>\n",
       "      <th>2</th>\n",
       "      <td>3</td>\n",
       "      <td>OH</td>\n",
       "      <td>103</td>\n",
       "      <td>area_code_408</td>\n",
       "      <td>no</td>\n",
       "      <td>yes</td>\n",
       "      <td>29</td>\n",
       "      <td>294.7</td>\n",
       "      <td>95</td>\n",
       "      <td>50.10</td>\n",
       "      <td>...</td>\n",
       "      <td>105</td>\n",
       "      <td>20.17</td>\n",
       "      <td>300.3</td>\n",
       "      <td>127</td>\n",
       "      <td>13.51</td>\n",
       "      <td>13.7</td>\n",
       "      <td>6</td>\n",
       "      <td>3.70</td>\n",
       "      <td>1</td>\n",
       "      <td>no</td>\n",
       "    </tr>\n",
       "    <tr>\n",
       "      <th>3</th>\n",
       "      <td>4</td>\n",
       "      <td>NM</td>\n",
       "      <td>99</td>\n",
       "      <td>area_code_415</td>\n",
       "      <td>no</td>\n",
       "      <td>no</td>\n",
       "      <td>0</td>\n",
       "      <td>216.8</td>\n",
       "      <td>123</td>\n",
       "      <td>36.86</td>\n",
       "      <td>...</td>\n",
       "      <td>88</td>\n",
       "      <td>10.74</td>\n",
       "      <td>220.6</td>\n",
       "      <td>82</td>\n",
       "      <td>9.93</td>\n",
       "      <td>15.7</td>\n",
       "      <td>2</td>\n",
       "      <td>4.24</td>\n",
       "      <td>1</td>\n",
       "      <td>no</td>\n",
       "    </tr>\n",
       "    <tr>\n",
       "      <th>4</th>\n",
       "      <td>5</td>\n",
       "      <td>SC</td>\n",
       "      <td>108</td>\n",
       "      <td>area_code_415</td>\n",
       "      <td>no</td>\n",
       "      <td>no</td>\n",
       "      <td>0</td>\n",
       "      <td>197.4</td>\n",
       "      <td>78</td>\n",
       "      <td>33.56</td>\n",
       "      <td>...</td>\n",
       "      <td>101</td>\n",
       "      <td>10.54</td>\n",
       "      <td>204.5</td>\n",
       "      <td>107</td>\n",
       "      <td>9.20</td>\n",
       "      <td>7.7</td>\n",
       "      <td>4</td>\n",
       "      <td>2.08</td>\n",
       "      <td>2</td>\n",
       "      <td>no</td>\n",
       "    </tr>\n",
       "  </tbody>\n",
       "</table>\n",
       "<p>5 rows × 21 columns</p>\n",
       "</div>"
      ],
      "text/plain": [
       "   Unnamed: 0 state  account_length      area_code international_plan  \\\n",
       "0           1    HI             101  area_code_510                 no   \n",
       "1           2    MT             137  area_code_510                 no   \n",
       "2           3    OH             103  area_code_408                 no   \n",
       "3           4    NM              99  area_code_415                 no   \n",
       "4           5    SC             108  area_code_415                 no   \n",
       "\n",
       "  voice_mail_plan  number_vmail_messages  total_day_minutes  total_day_calls  \\\n",
       "0              no                      0               70.9              123   \n",
       "1              no                      0              223.6               86   \n",
       "2             yes                     29              294.7               95   \n",
       "3              no                      0              216.8              123   \n",
       "4              no                      0              197.4               78   \n",
       "\n",
       "   total_day_charge  ...  total_eve_calls  total_eve_charge  \\\n",
       "0             12.05  ...               73             18.01   \n",
       "1             38.01  ...              139             20.81   \n",
       "2             50.10  ...              105             20.17   \n",
       "3             36.86  ...               88             10.74   \n",
       "4             33.56  ...              101             10.54   \n",
       "\n",
       "   total_night_minutes  total_night_calls  total_night_charge  \\\n",
       "0                236.0                 73               10.62   \n",
       "1                 94.2                 81                4.24   \n",
       "2                300.3                127               13.51   \n",
       "3                220.6                 82                9.93   \n",
       "4                204.5                107                9.20   \n",
       "\n",
       "   total_intl_minutes  total_intl_calls  total_intl_charge  \\\n",
       "0                10.6                 3               2.86   \n",
       "1                 9.5                 7               2.57   \n",
       "2                13.7                 6               3.70   \n",
       "3                15.7                 2               4.24   \n",
       "4                 7.7                 4               2.08   \n",
       "\n",
       "   number_customer_service_calls  churn  \n",
       "0                              3     no  \n",
       "1                              0     no  \n",
       "2                              1     no  \n",
       "3                              1     no  \n",
       "4                              2     no  \n",
       "\n",
       "[5 rows x 21 columns]"
      ]
     },
     "execution_count": 441,
     "metadata": {},
     "output_type": "execute_result"
    }
   ],
   "source": [
    "test_df.head()"
   ]
  },
  {
   "cell_type": "code",
   "execution_count": 442,
   "id": "a1065bb0",
   "metadata": {},
   "outputs": [],
   "source": [
    "# Preprocessing the test data\n",
    "# Converting the test data format\n",
    "#Encoding\n",
    "\n",
    "# Encoding for categorical variables\n",
    "\n",
    "# converting churn\n",
    "# df['churn_val']= lambda(0 if x=='no' else 1  for x in df['churn'])\n",
    "test_df['churn']= [0 if x=='no' else 1 for x in test_df['churn']]\n",
    "test_df['international_plan']= [0 if x=='no' else 1 for x in test_df['international_plan']]\n",
    "test_df['voice_mail_plan']= [0 if x=='no' else 1 for x in test_df['voice_mail_plan']]\n",
    "# dont run it again in between, it can change values\n",
    "\n",
    "\n",
    "# since customer are more driven by cost, we will drop the time columns\n",
    "todrop= ['Unnamed: 0']\n",
    "new_testdf= test_df.drop(columns=todrop,axis=1)\n",
    "\n",
    "# hot encode area_code\n",
    "new_testdf = pd.get_dummies(new_testdf, columns=['area_code'], drop_first=True)\n",
    "\n",
    "# new_testdf.drop(['churn','state'],axis=1,inplace=True)\n",
    "\n",
    "X_ttest= new_testdf.drop(['churn','state'],axis=1)\n",
    "y_ttest =new_testdf['churn']\n",
    "# X_train,X_test,y_train,y_test = train_test_split(X,y,test_size=0.15,random_state=42)\n",
    "\n",
    "scaler = StandardScaler()\n",
    "X_ttest_scaled = scaler.fit_transform(X_ttest)\n",
    "# X_test_scaled = scaler.transform(X_test)\n",
    "# X_train_scaled.head()\n",
    "\n",
    "\n",
    "X_ttest_scaled_df = pd.DataFrame(X_ttest_scaled, columns=X_ttest.columns)\n",
    "\n",
    "# X_test_scaled_df = pd.DataFrame(X_test_scaled, columns=X_test.columns)\n",
    "\n",
    "\n",
    "# model.fit(X_train_scaled,y_train)\n",
    "# in logistic regression it is advised to normalize data as one of the measure to avoid failing of convergence\n",
    "# y_tpredict= best_model.predict(X_ttest_scaled_df)\n",
    "# best_model.predict(X_test_scaled_df)"
   ]
  },
  {
   "cell_type": "code",
   "execution_count": 447,
   "id": "b0d25023",
   "metadata": {},
   "outputs": [
    {
     "data": {
      "text/plain": [
       "(1667, 19)"
      ]
     },
     "execution_count": 447,
     "metadata": {},
     "output_type": "execute_result"
    }
   ],
   "source": [
    "X_ttest_scaled_df.shape"
   ]
  },
  {
   "cell_type": "code",
   "execution_count": 448,
   "id": "c341ae3a",
   "metadata": {},
   "outputs": [
    {
     "data": {
      "text/plain": [
       "(855, 19)"
      ]
     },
     "execution_count": 448,
     "metadata": {},
     "output_type": "execute_result"
    }
   ],
   "source": [
    "X_test_scaled_df.shape"
   ]
  },
  {
   "cell_type": "code",
   "execution_count": 449,
   "id": "73869b6c",
   "metadata": {
    "scrolled": true
   },
   "outputs": [],
   "source": [
    "final_predict= best_model.predict(X_ttest_scaled_df)"
   ]
  },
  {
   "cell_type": "code",
   "execution_count": 450,
   "id": "122fd666",
   "metadata": {},
   "outputs": [
    {
     "data": {
      "text/plain": [
       "(1667,)"
      ]
     },
     "execution_count": 450,
     "metadata": {},
     "output_type": "execute_result"
    }
   ],
   "source": [
    "final_predict.shape"
   ]
  },
  {
   "cell_type": "code",
   "execution_count": 451,
   "id": "83e6dd80",
   "metadata": {},
   "outputs": [
    {
     "data": {
      "text/plain": [
       "(1667, 21)"
      ]
     },
     "execution_count": 451,
     "metadata": {},
     "output_type": "execute_result"
    }
   ],
   "source": [
    "test_df.shape"
   ]
  },
  {
   "cell_type": "code",
   "execution_count": 452,
   "id": "12d2e2a0",
   "metadata": {},
   "outputs": [
    {
     "data": {
      "text/plain": [
       "<sklearn.metrics._plot.confusion_matrix.ConfusionMatrixDisplay at 0x1ffdebddc40>"
      ]
     },
     "execution_count": 452,
     "metadata": {},
     "output_type": "execute_result"
    },
    {
     "data": {
      "image/png": "[encoded data removed]",
      "text/plain": [
       "<Figure size 640x480 with 2 Axes>"
      ]
     },
     "metadata": {},
     "output_type": "display_data"
    }
   ],
   "source": [
    "cmf = confusion_matrix(test_df['churn'], final_predict)\n",
    "disp = ConfusionMatrixDisplay(confusion_matrix=cmf)\n",
    "disp.plot()"
   ]
  },
  {
   "cell_type": "code",
   "execution_count": 455,
   "id": "87d1d745",
   "metadata": {},
   "outputs": [
    {
     "name": "stdout",
     "output_type": "stream",
     "text": [
      "Accuracy: 0.6652669466106779\n",
      "Classification Report:\n",
      "               precision    recall  f1-score   support\n",
      "\n",
      "           0       0.98      0.63      0.76      1443\n",
      "           1       0.28      0.92      0.42       224\n",
      "\n",
      "    accuracy                           0.67      1667\n",
      "   macro avg       0.63      0.77      0.59      1667\n",
      "weighted avg       0.88      0.67      0.72      1667\n",
      "\n",
      "Confusion Matrix:\n",
      " [[904 539]\n",
      " [ 19 205]]\n"
     ]
    }
   ],
   "source": [
    "print(\"Accuracy:\", accuracy_score(test_df['churn'] , final_predict))\n",
    "print(\"Classification Report:\\n\", classification_report(test_df['churn'], final_predict))\n",
    "print(\"Confusion Matrix:\\n\", confusion_matrix(test_df['churn'], final_predict))"
   ]
  },
  {
   "cell_type": "markdown",
   "id": "369f1d93",
   "metadata": {},
   "source": [
    "## Remarks:\n",
    "1. In evaluation of model using final test dataset we got accuracy of 66.5%. This is worse than the model training evaluation.\n",
    "\n",
    "2. From the confusion matrix we see that TP( ie Actual label =0 & Predicted label=0) works very well with precision of 0.98. But FP is very high which is concerning. This showcases the fact though we upscaled the data since we had very less points for label=1, the model doesnt performs well since there are not many actual data points for class label=1. This highlights the problem faced due to imbalanced dataset. \n",
    "\n",
    "3. Maybe downscaling should also be tried. But it raises more problem since the new training dataset formed will be very more and won't train our model properly"
   ]
  },
  {
   "cell_type": "markdown",
   "id": "6a54543a",
   "metadata": {},
   "source": [
    "# -- THE END--"
   ]
  },
  {
   "cell_type": "code",
   "execution_count": null,
   "id": "49aca4b0",
   "metadata": {},
   "outputs": [],
   "source": []
  }
 ],
 "metadata": {
  "kernelspec": {
   "display_name": "Python 3 (ipykernel)",
   "language": "python",
   "name": "python3"
  },
  "language_info": {
   "codemirror_mode": {
    "name": "ipython",
    "version": 3
   },
   "file_extension": ".py",
   "mimetype": "text/x-python",
   "name": "python",
   "nbconvert_exporter": "python",
   "pygments_lexer": "ipython3",
   "version": "3.9.13"
  }
 },
 "nbformat": 4,
 "nbformat_minor": 5
}
